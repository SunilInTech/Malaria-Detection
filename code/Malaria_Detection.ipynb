{
  "cells": [
    {
      "cell_type": "markdown",
      "metadata": {},
      "source": []
    },
    {
      "cell_type": "code",
      "execution_count": null,
      "metadata": {
        "colab": {
          "base_uri": "https://localhost:8080/"
        },
        "id": "eQn0cCpVxsZ7",
        "outputId": "cb576005-cb85-4f11-f16f-7184410c645e",
        "vscode": {
          "languageId": "python"
        }
      },
      "outputs": [
        {
          "name": "stdout",
          "output_type": "stream",
          "text": [
            "Mounted at /content/drive\n"
          ]
        }
      ],
      "source": [
        "from google.colab import drive\n",
        "drive.mount('/content/drive',force_remount=True)"
      ]
    },
    {
      "cell_type": "code",
      "execution_count": null,
      "metadata": {
        "colab": {
          "base_uri": "https://localhost:8080/"
        },
        "id": "sHUWm7HWx3yY",
        "outputId": "2ea0c001-d3fb-4361-ade4-d6115a988396",
        "vscode": {
          "languageId": "python"
        }
      },
      "outputs": [],
      "source": [
        "!pip install dm-sonnet"
      ]
    },
    {
      "cell_type": "code",
      "execution_count": null,
      "metadata": {
        "colab": {
          "base_uri": "https://localhost:8080/"
        },
        "id": "bqFxxipbyeZa",
        "outputId": "86d2d9d1-8b58-44a9-b6c9-0c20f5f7c6ac",
        "vscode": {
          "languageId": "python"
        }
      },
      "outputs": [],
      "source": [
        "!pip install tensorflow"
      ]
    },
    {
      "cell_type": "code",
      "execution_count": null,
      "metadata": {
        "id": "odL8owuA-Lt_",
        "vscode": {
          "languageId": "python"
        }
      },
      "outputs": [],
      "source": [
        "import os\n",
        "os.chdir(\"/content/drive/MyDrive/\") # add path to folder where SOP.zip file is present"
      ]
    },
    {
      "cell_type": "code",
      "execution_count": null,
      "metadata": {
        "colab": {
          "base_uri": "https://localhost:8080/"
        },
        "id": "7IiQFtEb-drw",
        "outputId": "4a672c1e-4673-4608-d84a-7e67ccbe2f05",
        "vscode": {
          "languageId": "python"
        }
      },
      "outputs": [
        {
          "name": "stdout",
          "output_type": "stream",
          "text": [
            "/content/drive/MyDrive\n"
          ]
        }
      ],
      "source": [
        "!pwd"
      ]
    },
    {
      "cell_type": "code",
      "execution_count": null,
      "metadata": {
        "id": "SSWvY-ET-ekA",
        "vscode": {
          "languageId": "python"
        }
      },
      "outputs": [],
      "source": [
        "cp   SOP.zip CLEVR.zip"
      ]
    },
    {
      "cell_type": "code",
      "execution_count": null,
      "metadata": {
        "id": "xrrowE_t0SBZ",
        "vscode": {
          "languageId": "python"
        }
      },
      "outputs": [],
      "source": [
        "ls"
      ]
    },
    {
      "cell_type": "code",
      "execution_count": null,
      "metadata": {
        "id": "3oDXUcGk-fOR",
        "vscode": {
          "languageId": "python"
        }
      },
      "outputs": [],
      "source": [
        "!unzip CLEVR.zip"
      ]
    },
    {
      "cell_type": "code",
      "execution_count": null,
      "metadata": {
        "colab": {
          "base_uri": "https://localhost:8080/"
        },
        "id": "2rdNsxTn-1Z5",
        "outputId": "dcc9a221-d965-4542-922e-e52215535dbd",
        "vscode": {
          "languageId": "python"
        }
      },
      "outputs": [
        {
          "name": "stdout",
          "output_type": "stream",
          "text": [
            "/content/drive/My Drive/cell_images\n"
          ]
        }
      ],
      "source": [
        "cd cell_images"
      ]
    },
    {
      "cell_type": "code",
      "execution_count": null,
      "metadata": {
        "colab": {
          "base_uri": "https://localhost:8080/"
        },
        "id": "4Iq8oboz-65o",
        "outputId": "e9ea12a6-46c2-4f0b-e214-5f5a4b742c18",
        "vscode": {
          "languageId": "python"
        }
      },
      "outputs": [
        {
          "name": "stdout",
          "output_type": "stream",
          "text": [
            "model_vgg.h5  \u001b[0m\u001b[01;34mParasitized\u001b[0m/  \u001b[01;34mUninfected\u001b[0m/\n"
          ]
        }
      ],
      "source": [
        "ls"
      ]
    },
    {
      "cell_type": "code",
      "execution_count": null,
      "metadata": {
        "colab": {
          "base_uri": "https://localhost:8080/"
        },
        "id": "Tlhu981d-7zh",
        "outputId": "32c657e7-252f-49b6-df3e-53c0d757ca6f",
        "vscode": {
          "languageId": "python"
        }
      },
      "outputs": [],
      "source": [
        "!pip3 install torch torchvision\n"
      ]
    },
    {
      "cell_type": "code",
      "execution_count": null,
      "metadata": {
        "colab": {
          "base_uri": "https://localhost:8080/"
        },
        "id": "H4JC5YZ5CMJf",
        "outputId": "3ab415fb-12fe-493c-e848-33ed0772794e",
        "vscode": {
          "languageId": "python"
        }
      },
      "outputs": [
        {
          "name": "stdout",
          "output_type": "stream",
          "text": [
            "/content/drive/MyDrive\n"
          ]
        }
      ],
      "source": [
        "cd .."
      ]
    },
    {
      "cell_type": "code",
      "execution_count": null,
      "metadata": {
        "colab": {
          "base_uri": "https://localhost:8080/"
        },
        "id": "jaRRiD54xkLA",
        "outputId": "3d3cad75-4510-4050-9548-4735fd3848e4",
        "vscode": {
          "languageId": "python"
        }
      },
      "outputs": [
        {
          "name": "stdout",
          "output_type": "stream",
          "text": [
            "/content/drive/MyDrive/cell_images\n"
          ]
        }
      ],
      "source": [
        "cd cell_images"
      ]
    },
    {
      "cell_type": "code",
      "execution_count": null,
      "metadata": {
        "colab": {
          "base_uri": "https://localhost:8080/"
        },
        "id": "4t2Lq3xoxoDO",
        "outputId": "d4dcb32c-bbd8-469a-e700-91e107f2cbbc",
        "vscode": {
          "languageId": "python"
        }
      },
      "outputs": [
        {
          "name": "stdout",
          "output_type": "stream",
          "text": [
            "model_vgg.h5  \u001b[0m\u001b[01;34mParasitized\u001b[0m/  \u001b[01;34mUninfected\u001b[0m/\n"
          ]
        }
      ],
      "source": [
        "ls"
      ]
    },
    {
      "cell_type": "code",
      "execution_count": null,
      "metadata": {
        "colab": {
          "base_uri": "https://localhost:8080/"
        },
        "id": "QDhpfMKfxpmJ",
        "outputId": "41c81ad2-fd99-4d4c-d57b-5367171884aa",
        "vscode": {
          "languageId": "python"
        }
      },
      "outputs": [
        {
          "name": "stdout",
          "output_type": "stream",
          "text": [
            "/content/drive/MyDrive/cell_images/Parasitized\n"
          ]
        }
      ],
      "source": [
        "cd Parasitized"
      ]
    },
    {
      "cell_type": "code",
      "execution_count": null,
      "metadata": {
        "colab": {
          "base_uri": "https://localhost:8080/"
        },
        "id": "zD3gKipw1oaP",
        "outputId": "657f5629-60c1-442d-d96d-577673d95a36",
        "vscode": {
          "languageId": "python"
        }
      },
      "outputs": [
        {
          "name": "stdout",
          "output_type": "stream",
          "text": [
            "/content/drive/MyDrive/cell_images\n"
          ]
        }
      ],
      "source": [
        "cd .."
      ]
    },
    {
      "cell_type": "code",
      "execution_count": null,
      "metadata": {
        "colab": {
          "base_uri": "https://localhost:8080/"
        },
        "id": "-FJxD1pq1qbw",
        "outputId": "917bd5e2-57db-4fa8-e040-50d015fed971",
        "vscode": {
          "languageId": "python"
        }
      },
      "outputs": [
        {
          "name": "stdout",
          "output_type": "stream",
          "text": [
            "/content/drive/MyDrive/cell_images/Uninfected\n"
          ]
        }
      ],
      "source": [
        "cd Uninfected\n"
      ]
    },
    {
      "cell_type": "code",
      "execution_count": null,
      "metadata": {
        "colab": {
          "base_uri": "https://localhost:8080/"
        },
        "id": "YvyTOZSm1vYJ",
        "outputId": "b5a57fa1-09db-461e-9fbb-eddf6c95d26d",
        "vscode": {
          "languageId": "python"
        }
      },
      "outputs": [
        {
          "name": "stdout",
          "output_type": "stream",
          "text": [
            "/content/drive/MyDrive/cell_images\n"
          ]
        }
      ],
      "source": [
        "cd .. "
      ]
    },
    {
      "cell_type": "code",
      "execution_count": null,
      "metadata": {
        "id": "m-X7S-hVzemR",
        "vscode": {
          "languageId": "python"
        }
      },
      "outputs": [],
      "source": [
        "from PIL import Image"
      ]
    },
    {
      "cell_type": "code",
      "execution_count": null,
      "metadata": {
        "colab": {
          "base_uri": "https://localhost:8080/"
        },
        "id": "0WzChONGm0sD",
        "outputId": "8806bd72-b66e-4403-bd9d-8ac3e3138ed6",
        "vscode": {
          "languageId": "python"
        }
      },
      "outputs": [
        {
          "name": "stdout",
          "output_type": "stream",
          "text": [
            "Looking in indexes: https://pypi.org/simple, https://us-python.pkg.dev/colab-wheels/public/simple/\n",
            "Requirement already satisfied: pillow in /usr/local/lib/python3.7/dist-packages (7.1.2)\n"
          ]
        }
      ],
      "source": [
        "!pip install pillow\n",
        "%reload_ext autoreload\n",
        "%autoreload"
      ]
    },
    {
      "cell_type": "code",
      "execution_count": null,
      "metadata": {
        "colab": {
          "base_uri": "https://localhost:8080/"
        },
        "id": "z5JU908Yz34e",
        "outputId": "5fd23049-9e28-4344-ee84-7ffbad82d421",
        "vscode": {
          "languageId": "python"
        }
      },
      "outputs": [
        {
          "name": "stdout",
          "output_type": "stream",
          "text": [
            "model_vgg.h5  \u001b[0m\u001b[01;34mParasitized\u001b[0m/  \u001b[01;34mUninfected\u001b[0m/\n"
          ]
        }
      ],
      "source": [
        "ls"
      ]
    },
    {
      "cell_type": "code",
      "execution_count": null,
      "metadata": {
        "id": "61o2NwxIzaCk",
        "vscode": {
          "languageId": "python"
        }
      },
      "outputs": [],
      "source": [
        "x1=min(Image.open(\"Parasitized/\"+f, 'r').size for f in os.listdir(\"Parasitized\"))\n",
        "x2=max(Image.open(\"Parasitized/\"+f, 'r').size for f in os.listdir(\"Parasitized\"))\n",
        "y1=min(Image.open(\"Uninfected/\"+f, 'r').size for f in os.listdir(\"Uninfected\"))\n",
        "y2=max(Image.open(\"Uninfected/\"+f, 'r').size for f in os.listdir(\"Uninfected\"))"
      ]
    },
    {
      "cell_type": "code",
      "execution_count": null,
      "metadata": {
        "colab": {
          "base_uri": "https://localhost:8080/"
        },
        "id": "mRsHiNDU1z76",
        "outputId": "5bfc3f81-df34-4098-a6e9-a827923a5222",
        "vscode": {
          "languageId": "python"
        }
      },
      "outputs": [
        {
          "name": "stdout",
          "output_type": "stream",
          "text": [
            "(46, 79) (394, 241) (49, 58) (247, 139)\n"
          ]
        }
      ],
      "source": [
        "print(x1,x2,y1,y2)"
      ]
    },
    {
      "cell_type": "code",
      "execution_count": null,
      "metadata": {
        "colab": {
          "base_uri": "https://localhost:8080/"
        },
        "id": "3gz_vSyq3apL",
        "outputId": "1acfe29d-2519-4c15-c7e0-dda5bb184164",
        "vscode": {
          "languageId": "python"
        }
      },
      "outputs": [
        {
          "name": "stdout",
          "output_type": "stream",
          "text": [
            "/content/drive/MyDrive/cell_images/Parasitized\n"
          ]
        }
      ],
      "source": [
        "cd Parasitized/"
      ]
    },
    {
      "cell_type": "code",
      "execution_count": null,
      "metadata": {
        "colab": {
          "base_uri": "https://localhost:8080/",
          "height": 252
        },
        "id": "P7D4rmHUyY_G",
        "outputId": "3dccd52f-2e08-41e6-fbfb-4f773cab93c5",
        "vscode": {
          "languageId": "python"
        }
      },
      "outputs": [
        {
          "data": {
            "image/png": "[encoded data removed]",
            "text/plain": [
              "<Figure size 432x288 with 1 Axes>"
            ]
          },
          "metadata": {},
          "output_type": "display_data"
        }
      ],
      "source": [
        "import numpy as np\n",
        "import cv2\n",
        "from matplotlib import pyplot as plt\n",
        "\n",
        "img = cv2.imread('C101P62ThinF_IMG_20150918_151942_cell_62.png',0)\n",
        "plt.imshow(img, cmap = 'gray', interpolation = 'bicubic')\n",
        "plt.xticks([]), plt.yticks([])  # to hide tick values on X and Y axis\n",
        "plt.show()"
      ]
    },
    {
      "cell_type": "code",
      "execution_count": null,
      "metadata": {
        "colab": {
          "base_uri": "https://localhost:8080/"
        },
        "id": "132clMpY3Zuq",
        "outputId": "4eb62e61-a393-45d8-a032-f57350e78d9d",
        "vscode": {
          "languageId": "python"
        }
      },
      "outputs": [
        {
          "name": "stdout",
          "output_type": "stream",
          "text": [
            "/content/drive/MyDrive/cell_images\n"
          ]
        }
      ],
      "source": [
        "cd .."
      ]
    },
    {
      "cell_type": "code",
      "execution_count": null,
      "metadata": {
        "colab": {
          "base_uri": "https://localhost:8080/"
        },
        "id": "yLdguSAZxpp_",
        "outputId": "025fd9e8-c6c1-4169-dd7d-69c570d2d715",
        "vscode": {
          "languageId": "python"
        }
      },
      "outputs": [
        {
          "name": "stdout",
          "output_type": "stream",
          "text": [
            "/content/drive/MyDrive/cell_images/Uninfected\n"
          ]
        }
      ],
      "source": [
        "cd Uninfected/"
      ]
    },
    {
      "cell_type": "code",
      "execution_count": null,
      "metadata": {
        "colab": {
          "base_uri": "https://localhost:8080/",
          "height": 252
        },
        "id": "_yWa7OWYxpv5",
        "outputId": "94d163db-dc0e-4645-8569-006d00c7f423",
        "vscode": {
          "languageId": "python"
        }
      },
      "outputs": [
        {
          "data": {
            "image/png": "[encoded data removed]",
            "text/plain": [
              "<Figure size 432x288 with 1 Axes>"
            ]
          },
          "metadata": {},
          "output_type": "display_data"
        }
      ],
      "source": [
        "img = cv2.imread('C99P60ThinF_IMG_20150918_141520_cell_73.png',0)\n",
        "plt.imshow(img, cmap = 'gray', interpolation = 'bicubic')\n",
        "plt.xticks([]), plt.yticks([])  # to hide tick values on X and Y axis\n",
        "plt.show()"
      ]
    },
    {
      "cell_type": "code",
      "execution_count": null,
      "metadata": {
        "colab": {
          "base_uri": "https://localhost:8080/"
        },
        "id": "yhGqRNUH4ZVM",
        "outputId": "f66ef990-de97-4f46-d531-5bdf8d9f45b4",
        "vscode": {
          "languageId": "python"
        }
      },
      "outputs": [
        {
          "name": "stdout",
          "output_type": "stream",
          "text": [
            "/content/drive/MyDrive/cell_images\n"
          ]
        }
      ],
      "source": [
        "cd .."
      ]
    },
    {
      "cell_type": "code",
      "execution_count": null,
      "metadata": {
        "colab": {
          "base_uri": "https://localhost:8080/"
        },
        "id": "nST5wnbg4aVQ",
        "outputId": "b00d1741-5264-4bfb-a6ea-755db426211e",
        "vscode": {
          "languageId": "python"
        }
      },
      "outputs": [
        {
          "name": "stdout",
          "output_type": "stream",
          "text": [
            "/content/drive/MyDrive\n"
          ]
        }
      ],
      "source": [
        "cd .."
      ]
    },
    {
      "cell_type": "code",
      "execution_count": null,
      "metadata": {
        "id": "lD8hSGG5lAGs",
        "vscode": {
          "languageId": "python"
        }
      },
      "outputs": [],
      "source": [
        "from tensorflow import keras"
      ]
    },
    {
      "cell_type": "code",
      "execution_count": null,
      "metadata": {
        "id": "QsbJIsRbk8mE",
        "vscode": {
          "languageId": "python"
        }
      },
      "outputs": [],
      "source": [
        "keras.backend.set_image_data_format('channels_last')"
      ]
    },
    {
      "cell_type": "code",
      "execution_count": null,
      "metadata": {
        "id": "8TbNmF7zB9JP",
        "vscode": {
          "languageId": "python"
        }
      },
      "outputs": [],
      "source": [
        "import numpy\n",
        "from tensorflow import keras\n",
        "from keras.models import Sequential\n",
        "from keras.layers import Dense\n",
        "from keras.layers import Dropout\n",
        "from keras.layers import Flatten\n",
        "from keras.layers.convolutional import Conv2D\n",
        "from keras.layers.convolutional import MaxPooling2D\n",
        "from keras.utils import np_utils\n",
        "import tensorflow.keras.backend as K\n",
        "import keras\n",
        "import keras.backend as K\n",
        "import numpy as np\n",
        "import pandas as pd\n",
        "import math\n",
        "import cv2\n",
        "from keras import layers\n",
        "from keras.layers import Input, Dense, Activation, ZeroPadding2D, BatchNormalization, Flatten, Conv2D\n",
        "from keras.layers import AveragePooling2D, MaxPooling2D, Dropout, GlobalMaxPooling2D, GlobalAveragePooling2D\n",
        "from keras.models import Model, Sequential\n",
        "from keras.preprocessing import image\n",
        "from keras.utils import layer_utils\n",
        "from keras.utils.data_utils import get_file\n",
        "from keras.applications.imagenet_utils import preprocess_input\n",
        "from keras.preprocessing.image import ImageDataGenerator\n",
        "try:\n",
        "    if K.backend() == 'theano':\n",
        "        K.set_image_data_format('channels_first')\n",
        "    else:\n",
        "        K.set_image_data_format('channels_last')\n",
        "except AttributeError:\n",
        "    if K._BACKEND == 'theano':\n",
        "        K.set_image_dim_ordering('th')\n",
        "    else:\n",
        "        K.set_image_dim_ordering('tf') "
      ]
    },
    {
      "cell_type": "code",
      "execution_count": null,
      "metadata": {
        "id": "Ttfl0ZhHwrQq",
        "vscode": {
          "languageId": "python"
        }
      },
      "outputs": [],
      "source": [
        "train_dir = 'cell_images/'\n",
        "image_size = 150\n",
        "shift=0.25"
      ]
    },
    {
      "cell_type": "code",
      "execution_count": null,
      "metadata": {
        "colab": {
          "base_uri": "https://localhost:8080/",
          "height": 397
        },
        "id": "i-q6YoecCRv6",
        "outputId": "6794e9bc-cda3-404c-be5a-5ee7ebfa1eab",
        "vscode": {
          "languageId": "python"
        }
      },
      "outputs": [],
      "source": [
        "from keras.preprocessing.image import ImageDataGenerator\n",
        "\n",
        "train_datagen = ImageDataGenerator(featurewise_center=False, samplewise_center=True, \n",
        "                                   featurewise_std_normalization=False, samplewise_std_normalization=True, \n",
        "                                   width_shift_range=shift, height_shift_range=shift,\n",
        "                                   rotation_range=90, fill_mode='wrap', cval=0.0, horizontal_flip=True, \n",
        "                                   brightness_range=None, shear_range=0.1, zoom_range=0.1,\n",
        "                                   vertical_flip=True, rescale=1./255, preprocessing_function=None, data_format=None,\n",
        "                                   validation_split=0.2)\n",
        "\n",
        "train_set = train_datagen.flow_from_directory(train_dir, target_size=(image_size, image_size), color_mode='rgb', classes=None, \n",
        "                                              class_mode='categorical', batch_size=256, shuffle=True, seed=None, \n",
        "                                              save_to_dir=None, save_prefix='', save_format='png', follow_links=False, \n",
        "                                              subset='training', interpolation='nearest')\n",
        "validation_generator = train_datagen.flow_from_directory(train_dir, target_size=(image_size, image_size),\n",
        "                                                         batch_size=256, class_mode='categorical', subset='validation')"
      ]
    },
    {
      "cell_type": "code",
      "execution_count": null,
      "metadata": {
        "colab": {
          "base_uri": "https://localhost:8080/"
        },
        "id": "auAm6C0puSNf",
        "outputId": "8699e243-f7bc-4be0-99f8-85cc7f9d07d7",
        "vscode": {
          "languageId": "python"
        }
      },
      "outputs": [
        {
          "data": {
            "text/plain": [
              "(256, 150, 150, 3)"
            ]
          },
          "execution_count": 47,
          "metadata": {},
          "output_type": "execute_result"
        }
      ],
      "source": [
        "(train_set[0][0].shape)"
      ]
    },
    {
      "cell_type": "code",
      "execution_count": null,
      "metadata": {
        "id": "58nL4stT6ZjP",
        "vscode": {
          "languageId": "python"
        }
      },
      "outputs": [],
      "source": [
        "nTrain = 22048\n",
        "nVal = 5510\n",
        "train_steps = nTrain//256\n",
        "vaid_steps = nVal//256"
      ]
    },
    {
      "cell_type": "code",
      "execution_count": null,
      "metadata": {
        "colab": {
          "base_uri": "https://localhost:8080/",
          "height": 235
        },
        "id": "znhSrmPIBvDl",
        "outputId": "418e4c57-4b56-40db-8af1-4f5006fd37df",
        "vscode": {
          "languageId": "python"
        }
      },
      "outputs": [],
      "source": [
        "\n",
        "from keras.applications.mobilenet import MobileNet\n",
        "mob_net= MobileNet(weights='imagenet', include_top=False, input_shape=(image_size, image_size,3))\n",
        "for layer in mob_net.layers[:-40]:\n",
        "    layer.trainable = False\n",
        " \n",
        " # Check the trainable status of the individual layers\n",
        "for layer in mob_net.layers:\n",
        "    print(layer, layer.trainable)\n"
      ]
    },
    {
      "cell_type": "code",
      "execution_count": null,
      "metadata": {
        "id": "T9wWQNg1u-Vy",
        "vscode": {
          "languageId": "python"
        }
      },
      "outputs": [],
      "source": [
        "from keras import models\n",
        "from keras import layers\n",
        "from keras import optimizers\n",
        "import numpy as np\n",
        "import pandas as pd\n",
        "import math\n",
        "import matplotlib.pyplot as plt\n",
        "import cv2\n",
        "from sklearn.model_selection import train_test_split, StratifiedKFold\n",
        "import keras\n",
        "import tensorflow as tf \n",
        "from keras.models import Sequential, Model\n",
        "from keras.layers import Input, Flatten, Dense, Dropout, Convolution2D, Conv2D, MaxPooling2D, Lambda, GlobalMaxPooling2D, GlobalAveragePooling2D, BatchNormalization, Activation, AveragePooling2D, Concatenate\n",
        "from keras.preprocessing.image import ImageDataGenerator\n",
        "from keras.callbacks import EarlyStopping, ModelCheckpoint, ReduceLROnPlateau\n",
        "from keras.utils import np_utils"
      ]
    },
    {
      "cell_type": "code",
      "execution_count": null,
      "metadata": {
        "id": "16owqok6vFG2",
        "vscode": {
          "languageId": "python"
        }
      },
      "outputs": [],
      "source": [
        "\n",
        "def get_model():\n",
        "    \n",
        "    x = Input((150, 150, 3))\n",
        "    model = BatchNormalization(axis = 3)(x)\n",
        "    model = Convolution2D(filters = 32, kernel_size = (3,3), strides = (1,1), padding = 'same', activation='relu')(model)\n",
        "    model = MaxPooling2D()(model)\n",
        "    \n",
        "    model = BatchNormalization(axis = 3)(model)\n",
        "    model = Convolution2D(filters = 64, kernel_size = (3,3), strides = (1,1), padding = 'same', activation='relu')(model)\n",
        "    model = MaxPooling2D()(model)\n",
        "    \n",
        "    model = BatchNormalization(axis = 3)(model)\n",
        "    model = Convolution2D(filters = 128, kernel_size = (3,3), strides = (1,1), padding = 'same', activation='relu')(model)\n",
        "    model = MaxPooling2D()(model)\n",
        "    \n",
        "    model = BatchNormalization(axis = 3)(model)\n",
        "    model = Convolution2D(filters = 64, kernel_size = (3,3), strides = (1,1), padding = 'same', activation='relu')(model) \n",
        "    model = GlobalAveragePooling2D()(model)\n",
        " \n",
        "    model = Dense(2, activation = 'sigmoid')(model)\n",
        "    \n",
        "    model = Model(x,model)\n",
        "    \n",
        "    \n",
        "    return model"
      ]
    },
    {
      "cell_type": "code",
      "execution_count": null,
      "metadata": {
        "colab": {
          "base_uri": "https://localhost:8080/"
        },
        "id": "LfzaaZd_vVYa",
        "outputId": "48acb059-6a5b-4727-d790-25c4c556ef00",
        "vscode": {
          "languageId": "python"
        }
      },
      "outputs": [
        {
          "name": "stdout",
          "output_type": "stream",
          "text": [
            "Model: \"model\"\n",
            "_________________________________________________________________\n",
            " Layer (type)                Output Shape              Param #   \n",
            "=================================================================\n",
            " input_2 (InputLayer)        [(None, 150, 150, 3)]     0         \n",
            "                                                                 \n",
            " batch_normalization (BatchN  (None, 150, 150, 3)      12        \n",
            " ormalization)                                                   \n",
            "                                                                 \n",
            " conv2d (Conv2D)             (None, 150, 150, 32)      896       \n",
            "                                                                 \n",
            " max_pooling2d (MaxPooling2D  (None, 75, 75, 32)       0         \n",
            " )                                                               \n",
            "                                                                 \n",
            " batch_normalization_1 (Batc  (None, 75, 75, 32)       128       \n",
            " hNormalization)                                                 \n",
            "                                                                 \n",
            " conv2d_1 (Conv2D)           (None, 75, 75, 64)        18496     \n",
            "                                                                 \n",
            " max_pooling2d_1 (MaxPooling  (None, 37, 37, 64)       0         \n",
            " 2D)                                                             \n",
            "                                                                 \n",
            " batch_normalization_2 (Batc  (None, 37, 37, 64)       256       \n",
            " hNormalization)                                                 \n",
            "                                                                 \n",
            " conv2d_2 (Conv2D)           (None, 37, 37, 128)       73856     \n",
            "                                                                 \n",
            " max_pooling2d_2 (MaxPooling  (None, 18, 18, 128)      0         \n",
            " 2D)                                                             \n",
            "                                                                 \n",
            " batch_normalization_3 (Batc  (None, 18, 18, 128)      512       \n",
            " hNormalization)                                                 \n",
            "                                                                 \n",
            " conv2d_3 (Conv2D)           (None, 18, 18, 64)        73792     \n",
            "                                                                 \n",
            " global_average_pooling2d (G  (None, 64)               0         \n",
            " lobalAveragePooling2D)                                          \n",
            "                                                                 \n",
            " dense (Dense)               (None, 2)                 130       \n",
            "                                                                 \n",
            "=================================================================\n",
            "Total params: 168,078\n",
            "Trainable params: 167,624\n",
            "Non-trainable params: 454\n",
            "_________________________________________________________________\n"
          ]
        }
      ],
      "source": [
        "model = get_model()\n",
        "model.summary()"
      ]
    },
    {
      "cell_type": "code",
      "execution_count": null,
      "metadata": {
        "id": "6GaQuqdUn4dE",
        "vscode": {
          "languageId": "python"
        }
      },
      "outputs": [],
      "source": [
        "from keras.models import Model, Sequential\n",
        "from keras.callbacks import ModelCheckpoint,EarlyStopping,LearningRateScheduler"
      ]
    },
    {
      "cell_type": "code",
      "execution_count": null,
      "metadata": {
        "id": "zIasBu2WXpW3",
        "vscode": {
          "languageId": "python"
        }
      },
      "outputs": [],
      "source": [
        "def step_decay(epoch):\n",
        "    initial_lrate = 0.001\n",
        "    drop = 0.5\n",
        "    epochs_drop = 10.0\n",
        "    lrate = initial_lrate * math.pow(drop, math.floor((1 + epoch)/epochs_drop))\n",
        "   \n",
        "    return lrate"
      ]
    },
    {
      "cell_type": "code",
      "execution_count": null,
      "metadata": {
        "id": "H2kRPDkAoV8s",
        "vscode": {
          "languageId": "python"
        }
      },
      "outputs": [],
      "source": [
        "checkpoint = ModelCheckpoint(\"model.h5\", monitor = 'val_acc', verbose = 1, save_best_only = True, \n",
        "                             save_weights_only = False, mode = 'auto', save_freq = 1)\n",
        "early = EarlyStopping(monitor = 'val_acc', min_delta = 0.001, patience = 10, verbose = 1, mode = 'auto')\n",
        "new_lr = LearningRateScheduler(step_decay, verbose = 1)"
      ]
    },
    {
      "cell_type": "code",
      "execution_count": null,
      "metadata": {
        "colab": {
          "base_uri": "https://localhost:8080/"
        },
        "id": "-1sH7xFC6zrt",
        "outputId": "5c1f264e-0602-4b80-99b2-f5ebe7b9420d",
        "vscode": {
          "languageId": "python"
        }
      },
      "outputs": [
        {
          "name": "stdout",
          "output_type": "stream",
          "text": [
            "Epoch 1/10\n",
            "WARNING:tensorflow:Can save best model only with val_acc available, skipping.\n",
            " 1/86 [..............................] - ETA: 22:16 - loss: 0.7913 - acc: 0.4844WARNING:tensorflow:Can save best model only with val_acc available, skipping.\n",
            " 2/86 [..............................] - ETA: 19s - loss: 0.7457 - acc: 0.4980  WARNING:tensorflow:Can save best model only with val_acc available, skipping.\n",
            " 3/86 [>.............................] - ETA: 1:25 - loss: 0.7268 - acc: 0.5078WARNING:tensorflow:Can save best model only with val_acc available, skipping.\n",
            " 4/86 [>.............................] - ETA: 1:45 - loss: 0.7071 - acc: 0.5430WARNING:tensorflow:Can save best model only with val_acc available, skipping.\n",
            " 5/86 [>.............................] - ETA: 1:53 - loss: 0.6971 - acc: 0.5578WARNING:tensorflow:Can save best model only with val_acc available, skipping.\n",
            " 6/86 [=>............................] - ETA: 1:58 - loss: 0.6813 - acc: 0.5736WARNING:tensorflow:Can save best model only with val_acc available, skipping.\n",
            " 7/86 [=>............................] - ETA: 2:01 - loss: 0.6814 - acc: 0.5776WARNING:tensorflow:Can save best model only with val_acc available, skipping.\n",
            " 8/86 [=>............................] - ETA: 2:03 - loss: 0.6821 - acc: 0.5771WARNING:tensorflow:Can save best model only with val_acc available, skipping.\n",
            " 9/86 [==>...........................] - ETA: 2:04 - loss: 0.6777 - acc: 0.5799WARNING:tensorflow:Can save best model only with val_acc available, skipping.\n",
            "10/86 [==>...........................] - ETA: 2:03 - loss: 0.6694 - acc: 0.5891WARNING:tensorflow:Can save best model only with val_acc available, skipping.\n",
            "11/86 [==>...........................] - ETA: 2:03 - loss: 0.6651 - acc: 0.5955WARNING:tensorflow:Can save best model only with val_acc available, skipping.\n",
            "12/86 [===>..........................] - ETA: 2:03 - loss: 0.6634 - acc: 0.5996WARNING:tensorflow:Can save best model only with val_acc available, skipping.\n",
            "13/86 [===>..........................] - ETA: 2:02 - loss: 0.6611 - acc: 0.6046WARNING:tensorflow:Can save best model only with val_acc available, skipping.\n",
            "14/86 [===>..........................] - ETA: 2:01 - loss: 0.6563 - acc: 0.6119WARNING:tensorflow:Can save best model only with val_acc available, skipping.\n",
            "15/86 [====>.........................] - ETA: 2:00 - loss: 0.6523 - acc: 0.6161WARNING:tensorflow:Can save best model only with val_acc available, skipping.\n",
            "16/86 [====>.........................] - ETA: 1:59 - loss: 0.6493 - acc: 0.6194WARNING:tensorflow:Can save best model only with val_acc available, skipping.\n",
            "17/86 [====>.........................] - ETA: 1:58 - loss: 0.6475 - acc: 0.6216WARNING:tensorflow:Can save best model only with val_acc available, skipping.\n",
            "18/86 [=====>........................] - ETA: 1:56 - loss: 0.6469 - acc: 0.6211WARNING:tensorflow:Can save best model only with val_acc available, skipping.\n",
            "19/86 [=====>........................] - ETA: 1:55 - loss: 0.6450 - acc: 0.6234WARNING:tensorflow:Can save best model only with val_acc available, skipping.\n",
            "20/86 [=====>........................] - ETA: 1:53 - loss: 0.6416 - acc: 0.6283WARNING:tensorflow:Can save best model only with val_acc available, skipping.\n",
            "21/86 [======>.......................] - ETA: 1:52 - loss: 0.6380 - acc: 0.6323WARNING:tensorflow:Can save best model only with val_acc available, skipping.\n",
            "22/86 [======>.......................] - ETA: 1:50 - loss: 0.6359 - acc: 0.6346WARNING:tensorflow:Can save best model only with val_acc available, skipping.\n",
            "23/86 [=======>......................] - ETA: 1:49 - loss: 0.6342 - acc: 0.6371WARNING:tensorflow:Can save best model only with val_acc available, skipping.\n",
            "24/86 [=======>......................] - ETA: 1:47 - loss: 0.6314 - acc: 0.6424WARNING:tensorflow:Can save best model only with val_acc available, skipping.\n",
            "25/86 [=======>......................] - ETA: 1:46 - loss: 0.6298 - acc: 0.6438WARNING:tensorflow:Can save best model only with val_acc available, skipping.\n",
            "26/86 [========>.....................] - ETA: 1:44 - loss: 0.6271 - acc: 0.6468WARNING:tensorflow:Can save best model only with val_acc available, skipping.\n",
            "27/86 [========>.....................] - ETA: 1:42 - loss: 0.6242 - acc: 0.6502WARNING:tensorflow:Can save best model only with val_acc available, skipping.\n",
            "28/86 [========>.....................] - ETA: 1:41 - loss: 0.6230 - acc: 0.6521WARNING:tensorflow:Can save best model only with val_acc available, skipping.\n",
            "29/86 [=========>....................] - ETA: 1:39 - loss: 0.6207 - acc: 0.6553WARNING:tensorflow:Can save best model only with val_acc available, skipping.\n",
            "30/86 [=========>....................] - ETA: 1:38 - loss: 0.6181 - acc: 0.6595WARNING:tensorflow:Can save best model only with val_acc available, skipping.\n",
            "31/86 [=========>....................] - ETA: 1:36 - loss: 0.6145 - acc: 0.6632WARNING:tensorflow:Can save best model only with val_acc available, skipping.\n",
            "32/86 [==========>...................] - ETA: 1:34 - loss: 0.6148 - acc: 0.6625WARNING:tensorflow:Can save best model only with val_acc available, skipping.\n",
            "33/86 [==========>...................] - ETA: 1:33 - loss: 0.6123 - acc: 0.6652WARNING:tensorflow:Can save best model only with val_acc available, skipping.\n",
            "34/86 [==========>...................] - ETA: 1:32 - loss: 0.6096 - acc: 0.6673WARNING:tensorflow:Can save best model only with val_acc available, skipping.\n",
            "35/86 [===========>..................] - ETA: 1:30 - loss: 0.6076 - acc: 0.6701WARNING:tensorflow:Can save best model only with val_acc available, skipping.\n",
            "36/86 [===========>..................] - ETA: 1:28 - loss: 0.6074 - acc: 0.6697WARNING:tensorflow:Can save best model only with val_acc available, skipping.\n",
            "37/86 [===========>..................] - ETA: 1:27 - loss: 0.6061 - acc: 0.6707WARNING:tensorflow:Can save best model only with val_acc available, skipping.\n",
            "38/86 [============>.................] - ETA: 1:25 - loss: 0.6038 - acc: 0.6731WARNING:tensorflow:Can save best model only with val_acc available, skipping.\n",
            "39/86 [============>.................] - ETA: 1:23 - loss: 0.6021 - acc: 0.6745WARNING:tensorflow:Can save best model only with val_acc available, skipping.\n",
            "40/86 [============>.................] - ETA: 1:20 - loss: 0.6019 - acc: 0.6747WARNING:tensorflow:Can save best model only with val_acc available, skipping.\n",
            "41/86 [=============>................] - ETA: 1:18 - loss: 0.6000 - acc: 0.6766WARNING:tensorflow:Can save best model only with val_acc available, skipping.\n",
            "42/86 [=============>................] - ETA: 1:16 - loss: 0.5984 - acc: 0.6776WARNING:tensorflow:Can save best model only with val_acc available, skipping.\n",
            "43/86 [==============>...............] - ETA: 1:15 - loss: 0.5979 - acc: 0.6780WARNING:tensorflow:Can save best model only with val_acc available, skipping.\n",
            "44/86 [==============>...............] - ETA: 1:13 - loss: 0.5968 - acc: 0.6789WARNING:tensorflow:Can save best model only with val_acc available, skipping.\n",
            "45/86 [==============>...............] - ETA: 1:11 - loss: 0.5943 - acc: 0.6811WARNING:tensorflow:Can save best model only with val_acc available, skipping.\n",
            "46/86 [===============>..............] - ETA: 1:10 - loss: 0.5929 - acc: 0.6833WARNING:tensorflow:Can save best model only with val_acc available, skipping.\n",
            "47/86 [===============>..............] - ETA: 1:08 - loss: 0.5901 - acc: 0.6858WARNING:tensorflow:Can save best model only with val_acc available, skipping.\n",
            "48/86 [===============>..............] - ETA: 1:06 - loss: 0.5866 - acc: 0.6882WARNING:tensorflow:Can save best model only with val_acc available, skipping.\n",
            "49/86 [================>.............] - ETA: 1:04 - loss: 0.5829 - acc: 0.6914WARNING:tensorflow:Can save best model only with val_acc available, skipping.\n",
            "50/86 [================>.............] - ETA: 1:03 - loss: 0.5815 - acc: 0.6936WARNING:tensorflow:Can save best model only with val_acc available, skipping.\n",
            "51/86 [================>.............] - ETA: 1:01 - loss: 0.5809 - acc: 0.6954WARNING:tensorflow:Can save best model only with val_acc available, skipping.\n",
            "52/86 [=================>............] - ETA: 59s - loss: 0.5778 - acc: 0.6980 WARNING:tensorflow:Can save best model only with val_acc available, skipping.\n",
            "53/86 [=================>............] - ETA: 58s - loss: 0.5764 - acc: 0.7000WARNING:tensorflow:Can save best model only with val_acc available, skipping.\n",
            "54/86 [=================>............] - ETA: 56s - loss: 0.5748 - acc: 0.7016WARNING:tensorflow:Can save best model only with val_acc available, skipping.\n",
            "55/86 [==================>...........] - ETA: 54s - loss: 0.5724 - acc: 0.7040WARNING:tensorflow:Can save best model only with val_acc available, skipping.\n",
            "56/86 [==================>...........] - ETA: 52s - loss: 0.5704 - acc: 0.7066WARNING:tensorflow:Can save best model only with val_acc available, skipping.\n",
            "57/86 [==================>...........] - ETA: 51s - loss: 0.5672 - acc: 0.7096WARNING:tensorflow:Can save best model only with val_acc available, skipping.\n",
            "58/86 [===================>..........] - ETA: 50s - loss: 0.5645 - acc: 0.7116WARNING:tensorflow:Can save best model only with val_acc available, skipping.\n",
            "59/86 [===================>..........] - ETA: 49s - loss: 0.5621 - acc: 0.7132WARNING:tensorflow:Can save best model only with val_acc available, skipping.\n",
            "60/86 [===================>..........] - ETA: 48s - loss: 0.5593 - acc: 0.7150WARNING:tensorflow:Can save best model only with val_acc available, skipping.\n",
            "61/86 [====================>.........] - ETA: 47s - loss: 0.5575 - acc: 0.7166WARNING:tensorflow:Can save best model only with val_acc available, skipping.\n",
            "62/86 [====================>.........] - ETA: 45s - loss: 0.5548 - acc: 0.7184WARNING:tensorflow:Can save best model only with val_acc available, skipping.\n",
            "63/86 [====================>.........] - ETA: 43s - loss: 0.5519 - acc: 0.7210WARNING:tensorflow:Can save best model only with val_acc available, skipping.\n",
            "64/86 [=====================>........] - ETA: 41s - loss: 0.5498 - acc: 0.7226WARNING:tensorflow:Can save best model only with val_acc available, skipping.\n",
            "65/86 [=====================>........] - ETA: 39s - loss: 0.5470 - acc: 0.7245WARNING:tensorflow:Can save best model only with val_acc available, skipping.\n",
            "66/86 [======================>.......] - ETA: 38s - loss: 0.5441 - acc: 0.7264WARNING:tensorflow:Can save best model only with val_acc available, skipping.\n",
            "67/86 [======================>.......] - ETA: 36s - loss: 0.5415 - acc: 0.7284WARNING:tensorflow:Can save best model only with val_acc available, skipping.\n",
            "68/86 [======================>.......] - ETA: 34s - loss: 0.5389 - acc: 0.7304WARNING:tensorflow:Can save best model only with val_acc available, skipping.\n",
            "69/86 [=======================>......] - ETA: 32s - loss: 0.5366 - acc: 0.7323WARNING:tensorflow:Can save best model only with val_acc available, skipping.\n",
            "70/86 [=======================>......] - ETA: 30s - loss: 0.5359 - acc: 0.7327WARNING:tensorflow:Can save best model only with val_acc available, skipping.\n",
            "71/86 [=======================>......] - ETA: 28s - loss: 0.5331 - acc: 0.7348WARNING:tensorflow:Can save best model only with val_acc available, skipping.\n",
            "72/86 [========================>.....] - ETA: 26s - loss: 0.5306 - acc: 0.7367WARNING:tensorflow:Can save best model only with val_acc available, skipping.\n",
            "73/86 [========================>.....] - ETA: 24s - loss: 0.5280 - acc: 0.7384WARNING:tensorflow:Can save best model only with val_acc available, skipping.\n",
            "74/86 [========================>.....] - ETA: 22s - loss: 0.5257 - acc: 0.7399WARNING:tensorflow:Can save best model only with val_acc available, skipping.\n",
            "75/86 [=========================>....] - ETA: 20s - loss: 0.5235 - acc: 0.7417WARNING:tensorflow:Can save best model only with val_acc available, skipping.\n",
            "76/86 [=========================>....] - ETA: 18s - loss: 0.5203 - acc: 0.7437WARNING:tensorflow:Can save best model only with val_acc available, skipping.\n",
            "77/86 [=========================>....] - ETA: 16s - loss: 0.5197 - acc: 0.7451WARNING:tensorflow:Can save best model only with val_acc available, skipping.\n",
            "78/86 [==========================>...] - ETA: 15s - loss: 0.5177 - acc: 0.7469WARNING:tensorflow:Can save best model only with val_acc available, skipping.\n",
            "79/86 [==========================>...] - ETA: 13s - loss: 0.5163 - acc: 0.7487WARNING:tensorflow:Can save best model only with val_acc available, skipping.\n",
            "80/86 [==========================>...] - ETA: 11s - loss: 0.5133 - acc: 0.7508WARNING:tensorflow:Can save best model only with val_acc available, skipping.\n",
            "81/86 [===========================>..] - ETA: 9s - loss: 0.5110 - acc: 0.7529 WARNING:tensorflow:Can save best model only with val_acc available, skipping.\n",
            "82/86 [===========================>..] - ETA: 7s - loss: 0.5084 - acc: 0.7546WARNING:tensorflow:Can save best model only with val_acc available, skipping.\n",
            "83/86 [===========================>..] - ETA: 5s - loss: 0.5062 - acc: 0.7560WARNING:tensorflow:Can save best model only with val_acc available, skipping.\n",
            "84/86 [============================>.] - ETA: 3s - loss: 0.5037 - acc: 0.7574WARNING:tensorflow:Can save best model only with val_acc available, skipping.\n",
            "85/86 [============================>.] - ETA: 1s - loss: 0.5023 - acc: 0.7583WARNING:tensorflow:Can save best model only with val_acc available, skipping.\n",
            "86/86 [==============================] - 218s 2s/step - loss: 0.5004 - acc: 0.7598 - val_loss: 1.1488 - val_acc: 0.5009\n",
            "Epoch 2/10\n",
            "WARNING:tensorflow:Can save best model only with val_acc available, skipping.\n",
            " 1/86 [..............................] - ETA: 2:50 - loss: 0.2884 - acc: 0.8867WARNING:tensorflow:Can save best model only with val_acc available, skipping.\n",
            " 2/86 [..............................] - ETA: 2:26 - loss: 0.2918 - acc: 0.8965WARNING:tensorflow:Can save best model only with val_acc available, skipping.\n",
            " 3/86 [>.............................] - ETA: 2:27 - loss: 0.2801 - acc: 0.9036WARNING:tensorflow:Can save best model only with val_acc available, skipping.\n",
            " 4/86 [>.............................] - ETA: 2:25 - loss: 0.2834 - acc: 0.8984WARNING:tensorflow:Can save best model only with val_acc available, skipping.\n",
            " 5/86 [>.............................] - ETA: 2:24 - loss: 0.2759 - acc: 0.8992WARNING:tensorflow:Can save best model only with val_acc available, skipping.\n",
            " 6/86 [=>............................] - ETA: 2:22 - loss: 0.2834 - acc: 0.8932WARNING:tensorflow:Can save best model only with val_acc available, skipping.\n",
            " 7/86 [=>............................] - ETA: 2:20 - loss: 0.2773 - acc: 0.8984WARNING:tensorflow:Can save best model only with val_acc available, skipping.\n",
            " 8/86 [=>............................] - ETA: 2:19 - loss: 0.2748 - acc: 0.9004WARNING:tensorflow:Can save best model only with val_acc available, skipping.\n",
            " 9/86 [==>...........................] - ETA: 2:17 - loss: 0.2768 - acc: 0.8989WARNING:tensorflow:Can save best model only with val_acc available, skipping.\n",
            "10/86 [==>...........................] - ETA: 2:15 - loss: 0.2779 - acc: 0.8969WARNING:tensorflow:Can save best model only with val_acc available, skipping.\n",
            "11/86 [==>...........................] - ETA: 2:13 - loss: 0.2779 - acc: 0.8970WARNING:tensorflow:Can save best model only with val_acc available, skipping.\n",
            "12/86 [===>..........................] - ETA: 2:11 - loss: 0.2746 - acc: 0.9004WARNING:tensorflow:Can save best model only with val_acc available, skipping.\n",
            "13/86 [===>..........................] - ETA: 2:09 - loss: 0.2801 - acc: 0.8975WARNING:tensorflow:Can save best model only with val_acc available, skipping.\n",
            "14/86 [===>..........................] - ETA: 2:08 - loss: 0.2773 - acc: 0.8984WARNING:tensorflow:Can save best model only with val_acc available, skipping.\n",
            "15/86 [====>.........................] - ETA: 2:06 - loss: 0.2757 - acc: 0.8990WARNING:tensorflow:Can save best model only with val_acc available, skipping.\n",
            "16/86 [====>.........................] - ETA: 2:04 - loss: 0.2811 - acc: 0.8977WARNING:tensorflow:Can save best model only with val_acc available, skipping.\n",
            "17/86 [====>.........................] - ETA: 2:02 - loss: 0.2801 - acc: 0.8987WARNING:tensorflow:Can save best model only with val_acc available, skipping.\n",
            "18/86 [=====>........................] - ETA: 2:00 - loss: 0.2784 - acc: 0.8991WARNING:tensorflow:Can save best model only with val_acc available, skipping.\n",
            "19/86 [=====>........................] - ETA: 1:59 - loss: 0.2779 - acc: 0.8993WARNING:tensorflow:Can save best model only with val_acc available, skipping.\n",
            "20/86 [=====>........................] - ETA: 1:57 - loss: 0.2773 - acc: 0.8994WARNING:tensorflow:Can save best model only with val_acc available, skipping.\n",
            "21/86 [======>.......................] - ETA: 1:55 - loss: 0.2789 - acc: 0.8999WARNING:tensorflow:Can save best model only with val_acc available, skipping.\n",
            "22/86 [======>.......................] - ETA: 1:53 - loss: 0.2788 - acc: 0.8995WARNING:tensorflow:Can save best model only with val_acc available, skipping.\n",
            "23/86 [=======>......................] - ETA: 1:52 - loss: 0.2747 - acc: 0.9018WARNING:tensorflow:Can save best model only with val_acc available, skipping.\n",
            "24/86 [=======>......................] - ETA: 1:50 - loss: 0.2717 - acc: 0.9033WARNING:tensorflow:Can save best model only with val_acc available, skipping.\n",
            "25/86 [=======>......................] - ETA: 1:48 - loss: 0.2735 - acc: 0.9038WARNING:tensorflow:Can save best model only with val_acc available, skipping.\n",
            "26/86 [========>.....................] - ETA: 1:46 - loss: 0.2736 - acc: 0.9041WARNING:tensorflow:Can save best model only with val_acc available, skipping.\n",
            "27/86 [========>.....................] - ETA: 1:45 - loss: 0.2741 - acc: 0.9041WARNING:tensorflow:Can save best model only with val_acc available, skipping.\n",
            "28/86 [========>.....................] - ETA: 1:43 - loss: 0.2735 - acc: 0.9043WARNING:tensorflow:Can save best model only with val_acc available, skipping.\n",
            "29/86 [=========>....................] - ETA: 1:41 - loss: 0.2726 - acc: 0.9041WARNING:tensorflow:Can save best model only with val_acc available, skipping.\n",
            "30/86 [=========>....................] - ETA: 1:39 - loss: 0.2708 - acc: 0.9048WARNING:tensorflow:Can save best model only with val_acc available, skipping.\n",
            "31/86 [=========>....................] - ETA: 1:38 - loss: 0.2700 - acc: 0.9052WARNING:tensorflow:Can save best model only with val_acc available, skipping.\n",
            "32/86 [==========>...................] - ETA: 1:36 - loss: 0.2696 - acc: 0.9054WARNING:tensorflow:Can save best model only with val_acc available, skipping.\n",
            "33/86 [==========>...................] - ETA: 1:31 - loss: 0.2694 - acc: 0.9056WARNING:tensorflow:Can save best model only with val_acc available, skipping.\n",
            "34/86 [==========>...................] - ETA: 1:30 - loss: 0.2685 - acc: 0.9059WARNING:tensorflow:Can save best model only with val_acc available, skipping.\n",
            "35/86 [===========>..................] - ETA: 1:28 - loss: 0.2683 - acc: 0.9058WARNING:tensorflow:Can save best model only with val_acc available, skipping.\n",
            "36/86 [===========>..................] - ETA: 1:26 - loss: 0.2675 - acc: 0.9058WARNING:tensorflow:Can save best model only with val_acc available, skipping.\n",
            "37/86 [===========>..................] - ETA: 1:25 - loss: 0.2662 - acc: 0.9062WARNING:tensorflow:Can save best model only with val_acc available, skipping.\n",
            "38/86 [============>.................] - ETA: 1:23 - loss: 0.2662 - acc: 0.9064WARNING:tensorflow:Can save best model only with val_acc available, skipping.\n",
            "39/86 [============>.................] - ETA: 1:21 - loss: 0.2642 - acc: 0.9073WARNING:tensorflow:Can save best model only with val_acc available, skipping.\n",
            "40/86 [============>.................] - ETA: 1:20 - loss: 0.2632 - acc: 0.9077WARNING:tensorflow:Can save best model only with val_acc available, skipping.\n",
            "41/86 [=============>................] - ETA: 1:18 - loss: 0.2609 - acc: 0.9087WARNING:tensorflow:Can save best model only with val_acc available, skipping.\n",
            "42/86 [=============>................] - ETA: 1:16 - loss: 0.2603 - acc: 0.9091WARNING:tensorflow:Can save best model only with val_acc available, skipping.\n",
            "43/86 [==============>...............] - ETA: 1:15 - loss: 0.2599 - acc: 0.9094WARNING:tensorflow:Can save best model only with val_acc available, skipping.\n",
            "44/86 [==============>...............] - ETA: 1:13 - loss: 0.2577 - acc: 0.9099WARNING:tensorflow:Can save best model only with val_acc available, skipping.\n",
            "45/86 [==============>...............] - ETA: 1:11 - loss: 0.2569 - acc: 0.9100WARNING:tensorflow:Can save best model only with val_acc available, skipping.\n",
            "46/86 [===============>..............] - ETA: 1:09 - loss: 0.2552 - acc: 0.9106WARNING:tensorflow:Can save best model only with val_acc available, skipping.\n",
            "47/86 [===============>..............] - ETA: 1:08 - loss: 0.2550 - acc: 0.9107WARNING:tensorflow:Can save best model only with val_acc available, skipping.\n",
            "48/86 [===============>..............] - ETA: 1:06 - loss: 0.2536 - acc: 0.9111WARNING:tensorflow:Can save best model only with val_acc available, skipping.\n",
            "49/86 [================>.............] - ETA: 1:04 - loss: 0.2543 - acc: 0.9111WARNING:tensorflow:Can save best model only with val_acc available, skipping.\n",
            "50/86 [================>.............] - ETA: 1:03 - loss: 0.2538 - acc: 0.9111WARNING:tensorflow:Can save best model only with val_acc available, skipping.\n",
            "51/86 [================>.............] - ETA: 1:01 - loss: 0.2517 - acc: 0.9118WARNING:tensorflow:Can save best model only with val_acc available, skipping.\n",
            "52/86 [=================>............] - ETA: 59s - loss: 0.2502 - acc: 0.9126 WARNING:tensorflow:Can save best model only with val_acc available, skipping.\n",
            "53/86 [=================>............] - ETA: 57s - loss: 0.2492 - acc: 0.9128WARNING:tensorflow:Can save best model only with val_acc available, skipping.\n",
            "54/86 [=================>............] - ETA: 56s - loss: 0.2493 - acc: 0.9126WARNING:tensorflow:Can save best model only with val_acc available, skipping.\n",
            "55/86 [==================>...........] - ETA: 54s - loss: 0.2499 - acc: 0.9128WARNING:tensorflow:Can save best model only with val_acc available, skipping.\n",
            "56/86 [==================>...........] - ETA: 52s - loss: 0.2506 - acc: 0.9125WARNING:tensorflow:Can save best model only with val_acc available, skipping.\n",
            "57/86 [==================>...........] - ETA: 50s - loss: 0.2491 - acc: 0.9133WARNING:tensorflow:Can save best model only with val_acc available, skipping.\n",
            "58/86 [===================>..........] - ETA: 49s - loss: 0.2487 - acc: 0.9131WARNING:tensorflow:Can save best model only with val_acc available, skipping.\n",
            "59/86 [===================>..........] - ETA: 47s - loss: 0.2488 - acc: 0.9132WARNING:tensorflow:Can save best model only with val_acc available, skipping.\n",
            "60/86 [===================>..........] - ETA: 45s - loss: 0.2494 - acc: 0.9127WARNING:tensorflow:Can save best model only with val_acc available, skipping.\n",
            "61/86 [====================>.........] - ETA: 44s - loss: 0.2482 - acc: 0.9129WARNING:tensorflow:Can save best model only with val_acc available, skipping.\n",
            "62/86 [====================>.........] - ETA: 42s - loss: 0.2484 - acc: 0.9124WARNING:tensorflow:Can save best model only with val_acc available, skipping.\n",
            "63/86 [====================>.........] - ETA: 40s - loss: 0.2482 - acc: 0.9126WARNING:tensorflow:Can save best model only with val_acc available, skipping.\n",
            "64/86 [=====================>........] - ETA: 38s - loss: 0.2483 - acc: 0.9126WARNING:tensorflow:Can save best model only with val_acc available, skipping.\n",
            "65/86 [=====================>........] - ETA: 37s - loss: 0.2475 - acc: 0.9130WARNING:tensorflow:Can save best model only with val_acc available, skipping.\n",
            "66/86 [======================>.......] - ETA: 35s - loss: 0.2474 - acc: 0.9131WARNING:tensorflow:Can save best model only with val_acc available, skipping.\n",
            "67/86 [======================>.......] - ETA: 33s - loss: 0.2472 - acc: 0.9128WARNING:tensorflow:Can save best model only with val_acc available, skipping.\n",
            "68/86 [======================>.......] - ETA: 31s - loss: 0.2465 - acc: 0.9129WARNING:tensorflow:Can save best model only with val_acc available, skipping.\n",
            "69/86 [=======================>......] - ETA: 29s - loss: 0.2460 - acc: 0.9131WARNING:tensorflow:Can save best model only with val_acc available, skipping.\n",
            "70/86 [=======================>......] - ETA: 28s - loss: 0.2451 - acc: 0.9136WARNING:tensorflow:Can save best model only with val_acc available, skipping.\n",
            "71/86 [=======================>......] - ETA: 26s - loss: 0.2446 - acc: 0.9138WARNING:tensorflow:Can save best model only with val_acc available, skipping.\n",
            "72/86 [========================>.....] - ETA: 24s - loss: 0.2458 - acc: 0.9139WARNING:tensorflow:Can save best model only with val_acc available, skipping.\n",
            "73/86 [========================>.....] - ETA: 22s - loss: 0.2457 - acc: 0.9140WARNING:tensorflow:Can save best model only with val_acc available, skipping.\n",
            "74/86 [========================>.....] - ETA: 21s - loss: 0.2451 - acc: 0.9144WARNING:tensorflow:Can save best model only with val_acc available, skipping.\n",
            "75/86 [=========================>....] - ETA: 19s - loss: 0.2454 - acc: 0.9145WARNING:tensorflow:Can save best model only with val_acc available, skipping.\n",
            "76/86 [=========================>....] - ETA: 17s - loss: 0.2450 - acc: 0.9147WARNING:tensorflow:Can save best model only with val_acc available, skipping.\n",
            "77/86 [=========================>....] - ETA: 15s - loss: 0.2456 - acc: 0.9148WARNING:tensorflow:Can save best model only with val_acc available, skipping.\n",
            "78/86 [==========================>...] - ETA: 14s - loss: 0.2447 - acc: 0.9149WARNING:tensorflow:Can save best model only with val_acc available, skipping.\n",
            "79/86 [==========================>...] - ETA: 12s - loss: 0.2439 - acc: 0.9151WARNING:tensorflow:Can save best model only with val_acc available, skipping.\n",
            "80/86 [==========================>...] - ETA: 10s - loss: 0.2443 - acc: 0.9151WARNING:tensorflow:Can save best model only with val_acc available, skipping.\n",
            "81/86 [===========================>..] - ETA: 8s - loss: 0.2436 - acc: 0.9151 WARNING:tensorflow:Can save best model only with val_acc available, skipping.\n",
            "82/86 [===========================>..] - ETA: 7s - loss: 0.2439 - acc: 0.9149WARNING:tensorflow:Can save best model only with val_acc available, skipping.\n",
            "83/86 [===========================>..] - ETA: 5s - loss: 0.2438 - acc: 0.9149WARNING:tensorflow:Can save best model only with val_acc available, skipping.\n",
            "84/86 [============================>.] - ETA: 3s - loss: 0.2432 - acc: 0.9155WARNING:tensorflow:Can save best model only with val_acc available, skipping.\n",
            "85/86 [============================>.] - ETA: 1s - loss: 0.2420 - acc: 0.9161WARNING:tensorflow:Can save best model only with val_acc available, skipping.\n",
            "86/86 [==============================] - 192s 2s/step - loss: 0.2415 - acc: 0.9161 - val_loss: 1.1930 - val_acc: 0.5004\n",
            "Epoch 3/10\n",
            "WARNING:tensorflow:Can save best model only with val_acc available, skipping.\n",
            " 1/86 [..............................] - ETA: 2:51 - loss: 0.2046 - acc: 0.9141WARNING:tensorflow:Can save best model only with val_acc available, skipping.\n",
            " 2/86 [..............................] - ETA: 2:24 - loss: 0.2074 - acc: 0.9160WARNING:tensorflow:Can save best model only with val_acc available, skipping.\n",
            " 3/86 [>.............................] - ETA: 2:25 - loss: 0.2074 - acc: 0.9232WARNING:tensorflow:Can save best model only with val_acc available, skipping.\n",
            " 4/86 [>.............................] - ETA: 2:24 - loss: 0.2050 - acc: 0.9277WARNING:tensorflow:Can save best model only with val_acc available, skipping.\n",
            " 5/86 [>.............................] - ETA: 2:23 - loss: 0.1965 - acc: 0.9312WARNING:tensorflow:Can save best model only with val_acc available, skipping.\n",
            " 6/86 [=>............................] - ETA: 2:21 - loss: 0.1956 - acc: 0.9329WARNING:tensorflow:Can save best model only with val_acc available, skipping.\n",
            " 7/86 [=>............................] - ETA: 2:19 - loss: 0.2055 - acc: 0.9297WARNING:tensorflow:Can save best model only with val_acc available, skipping.\n",
            " 8/86 [=>............................] - ETA: 2:18 - loss: 0.2096 - acc: 0.9248WARNING:tensorflow:Can save best model only with val_acc available, skipping.\n",
            " 9/86 [==>...........................] - ETA: 2:16 - loss: 0.2061 - acc: 0.9266WARNING:tensorflow:Can save best model only with val_acc available, skipping.\n",
            "10/86 [==>...........................] - ETA: 2:14 - loss: 0.2059 - acc: 0.9266WARNING:tensorflow:Can save best model only with val_acc available, skipping.\n",
            "11/86 [==>...........................] - ETA: 2:13 - loss: 0.2034 - acc: 0.9276WARNING:tensorflow:Can save best model only with val_acc available, skipping.\n",
            "12/86 [===>..........................] - ETA: 2:11 - loss: 0.2026 - acc: 0.9274WARNING:tensorflow:Can save best model only with val_acc available, skipping.\n",
            "13/86 [===>..........................] - ETA: 2:09 - loss: 0.2063 - acc: 0.9279WARNING:tensorflow:Can save best model only with val_acc available, skipping.\n",
            "14/86 [===>..........................] - ETA: 2:08 - loss: 0.2077 - acc: 0.9305WARNING:tensorflow:Can save best model only with val_acc available, skipping.\n",
            "15/86 [====>.........................] - ETA: 2:06 - loss: 0.2096 - acc: 0.9302WARNING:tensorflow:Can save best model only with val_acc available, skipping.\n",
            "16/86 [====>.........................] - ETA: 2:04 - loss: 0.2114 - acc: 0.9297WARNING:tensorflow:Can save best model only with val_acc available, skipping.\n",
            "17/86 [====>.........................] - ETA: 2:02 - loss: 0.2126 - acc: 0.9290WARNING:tensorflow:Can save best model only with val_acc available, skipping.\n",
            "18/86 [=====>........................] - ETA: 2:01 - loss: 0.2102 - acc: 0.9299WARNING:tensorflow:Can save best model only with val_acc available, skipping.\n",
            "19/86 [=====>........................] - ETA: 1:59 - loss: 0.2084 - acc: 0.9301WARNING:tensorflow:Can save best model only with val_acc available, skipping.\n",
            "20/86 [=====>........................] - ETA: 1:57 - loss: 0.2096 - acc: 0.9291WARNING:tensorflow:Can save best model only with val_acc available, skipping.\n",
            "21/86 [======>.......................] - ETA: 1:55 - loss: 0.2103 - acc: 0.9293WARNING:tensorflow:Can save best model only with val_acc available, skipping.\n",
            "22/86 [======>.......................] - ETA: 1:54 - loss: 0.2144 - acc: 0.9281WARNING:tensorflow:Can save best model only with val_acc available, skipping.\n",
            "23/86 [=======>......................] - ETA: 1:52 - loss: 0.2126 - acc: 0.9276WARNING:tensorflow:Can save best model only with val_acc available, skipping.\n",
            "24/86 [=======>......................] - ETA: 1:50 - loss: 0.2120 - acc: 0.9274WARNING:tensorflow:Can save best model only with val_acc available, skipping.\n",
            "25/86 [=======>......................] - ETA: 1:48 - loss: 0.2119 - acc: 0.9269WARNING:tensorflow:Can save best model only with val_acc available, skipping.\n",
            "26/86 [========>.....................] - ETA: 1:46 - loss: 0.2109 - acc: 0.9270WARNING:tensorflow:Can save best model only with val_acc available, skipping.\n",
            "27/86 [========>.....................] - ETA: 1:45 - loss: 0.2131 - acc: 0.9256WARNING:tensorflow:Can save best model only with val_acc available, skipping.\n",
            "28/86 [========>.....................] - ETA: 1:43 - loss: 0.2123 - acc: 0.9256WARNING:tensorflow:Can save best model only with val_acc available, skipping.\n",
            "29/86 [=========>....................] - ETA: 1:41 - loss: 0.2124 - acc: 0.9255WARNING:tensorflow:Can save best model only with val_acc available, skipping.\n",
            "30/86 [=========>....................] - ETA: 1:39 - loss: 0.2119 - acc: 0.9259WARNING:tensorflow:Can save best model only with val_acc available, skipping.\n",
            "31/86 [=========>....................] - ETA: 1:39 - loss: 0.2127 - acc: 0.9260WARNING:tensorflow:Can save best model only with val_acc available, skipping.\n",
            "32/86 [==========>...................] - ETA: 1:38 - loss: 0.2111 - acc: 0.9263WARNING:tensorflow:Can save best model only with val_acc available, skipping.\n",
            "33/86 [==========>...................] - ETA: 1:36 - loss: 0.2146 - acc: 0.9253WARNING:tensorflow:Can save best model only with val_acc available, skipping.\n",
            "34/86 [==========>...................] - ETA: 1:34 - loss: 0.2157 - acc: 0.9251WARNING:tensorflow:Can save best model only with val_acc available, skipping.\n",
            "35/86 [===========>..................] - ETA: 1:32 - loss: 0.2144 - acc: 0.9257WARNING:tensorflow:Can save best model only with val_acc available, skipping.\n",
            "36/86 [===========>..................] - ETA: 1:30 - loss: 0.2147 - acc: 0.9260WARNING:tensorflow:Can save best model only with val_acc available, skipping.\n",
            "37/86 [===========>..................] - ETA: 1:29 - loss: 0.2133 - acc: 0.9262WARNING:tensorflow:Can save best model only with val_acc available, skipping.\n",
            "38/86 [============>.................] - ETA: 1:27 - loss: 0.2139 - acc: 0.9256WARNING:tensorflow:Can save best model only with val_acc available, skipping.\n",
            "39/86 [============>.................] - ETA: 1:25 - loss: 0.2139 - acc: 0.9251WARNING:tensorflow:Can save best model only with val_acc available, skipping.\n",
            "40/86 [============>.................] - ETA: 1:23 - loss: 0.2137 - acc: 0.9261WARNING:tensorflow:Can save best model only with val_acc available, skipping.\n",
            "41/86 [=============>................] - ETA: 1:21 - loss: 0.2156 - acc: 0.9249WARNING:tensorflow:Can save best model only with val_acc available, skipping.\n",
            "42/86 [=============>................] - ETA: 1:19 - loss: 0.2154 - acc: 0.9252WARNING:tensorflow:Can save best model only with val_acc available, skipping.\n",
            "43/86 [==============>...............] - ETA: 1:17 - loss: 0.2153 - acc: 0.9256WARNING:tensorflow:Can save best model only with val_acc available, skipping.\n",
            "44/86 [==============>...............] - ETA: 1:16 - loss: 0.2154 - acc: 0.9258WARNING:tensorflow:Can save best model only with val_acc available, skipping.\n",
            "45/86 [==============>...............] - ETA: 1:14 - loss: 0.2154 - acc: 0.9258WARNING:tensorflow:Can save best model only with val_acc available, skipping.\n",
            "46/86 [===============>..............] - ETA: 1:12 - loss: 0.2153 - acc: 0.9254WARNING:tensorflow:Can save best model only with val_acc available, skipping.\n",
            "47/86 [===============>..............] - ETA: 1:10 - loss: 0.2152 - acc: 0.9254WARNING:tensorflow:Can save best model only with val_acc available, skipping.\n",
            "48/86 [===============>..............] - ETA: 1:08 - loss: 0.2144 - acc: 0.9260WARNING:tensorflow:Can save best model only with val_acc available, skipping.\n",
            "49/86 [================>.............] - ETA: 1:06 - loss: 0.2144 - acc: 0.9259WARNING:tensorflow:Can save best model only with val_acc available, skipping.\n",
            "50/86 [================>.............] - ETA: 1:05 - loss: 0.2136 - acc: 0.9261WARNING:tensorflow:Can save best model only with val_acc available, skipping.\n",
            "51/86 [================>.............] - ETA: 1:03 - loss: 0.2137 - acc: 0.9258WARNING:tensorflow:Can save best model only with val_acc available, skipping.\n",
            "52/86 [=================>............] - ETA: 1:01 - loss: 0.2130 - acc: 0.9258WARNING:tensorflow:Can save best model only with val_acc available, skipping.\n",
            "53/86 [=================>............] - ETA: 59s - loss: 0.2124 - acc: 0.9258 WARNING:tensorflow:Can save best model only with val_acc available, skipping.\n",
            "54/86 [=================>............] - ETA: 58s - loss: 0.2126 - acc: 0.9256WARNING:tensorflow:Can save best model only with val_acc available, skipping.\n",
            "55/86 [==================>...........] - ETA: 57s - loss: 0.2121 - acc: 0.9259WARNING:tensorflow:Can save best model only with val_acc available, skipping.\n",
            "56/86 [==================>...........] - ETA: 55s - loss: 0.2115 - acc: 0.9261WARNING:tensorflow:Can save best model only with val_acc available, skipping.\n",
            "57/86 [==================>...........] - ETA: 53s - loss: 0.2125 - acc: 0.9261WARNING:tensorflow:Can save best model only with val_acc available, skipping.\n",
            "58/86 [===================>..........] - ETA: 52s - loss: 0.2116 - acc: 0.9265WARNING:tensorflow:Can save best model only with val_acc available, skipping.\n",
            "59/86 [===================>..........] - ETA: 50s - loss: 0.2108 - acc: 0.9268WARNING:tensorflow:Can save best model only with val_acc available, skipping.\n",
            "60/86 [===================>..........] - ETA: 48s - loss: 0.2103 - acc: 0.9269WARNING:tensorflow:Can save best model only with val_acc available, skipping.\n",
            "61/86 [====================>.........] - ETA: 46s - loss: 0.2106 - acc: 0.9269WARNING:tensorflow:Can save best model only with val_acc available, skipping.\n",
            "62/86 [====================>.........] - ETA: 45s - loss: 0.2103 - acc: 0.9271WARNING:tensorflow:Can save best model only with val_acc available, skipping.\n",
            "63/86 [====================>.........] - ETA: 43s - loss: 0.2099 - acc: 0.9275WARNING:tensorflow:Can save best model only with val_acc available, skipping.\n",
            "64/86 [=====================>........] - ETA: 42s - loss: 0.2094 - acc: 0.9276WARNING:tensorflow:Can save best model only with val_acc available, skipping.\n",
            "65/86 [=====================>........] - ETA: 40s - loss: 0.2091 - acc: 0.9276WARNING:tensorflow:Can save best model only with val_acc available, skipping.\n",
            "66/86 [======================>.......] - ETA: 38s - loss: 0.2098 - acc: 0.9273WARNING:tensorflow:Can save best model only with val_acc available, skipping.\n",
            "67/86 [======================>.......] - ETA: 36s - loss: 0.2097 - acc: 0.9272WARNING:tensorflow:Can save best model only with val_acc available, skipping.\n",
            "68/86 [======================>.......] - ETA: 34s - loss: 0.2094 - acc: 0.9272WARNING:tensorflow:Can save best model only with val_acc available, skipping.\n",
            "69/86 [=======================>......] - ETA: 32s - loss: 0.2089 - acc: 0.9275WARNING:tensorflow:Can save best model only with val_acc available, skipping.\n",
            "70/86 [=======================>......] - ETA: 30s - loss: 0.2089 - acc: 0.9276WARNING:tensorflow:Can save best model only with val_acc available, skipping.\n",
            "71/86 [=======================>......] - ETA: 28s - loss: 0.2085 - acc: 0.9277WARNING:tensorflow:Can save best model only with val_acc available, skipping.\n",
            "72/86 [========================>.....] - ETA: 26s - loss: 0.2082 - acc: 0.9277WARNING:tensorflow:Can save best model only with val_acc available, skipping.\n",
            "73/86 [========================>.....] - ETA: 25s - loss: 0.2077 - acc: 0.9280WARNING:tensorflow:Can save best model only with val_acc available, skipping.\n",
            "74/86 [========================>.....] - ETA: 22s - loss: 0.2078 - acc: 0.9279WARNING:tensorflow:Can save best model only with val_acc available, skipping.\n",
            "75/86 [=========================>....] - ETA: 20s - loss: 0.2082 - acc: 0.9277WARNING:tensorflow:Can save best model only with val_acc available, skipping.\n",
            "76/86 [=========================>....] - ETA: 19s - loss: 0.2085 - acc: 0.9277WARNING:tensorflow:Can save best model only with val_acc available, skipping.\n",
            "77/86 [=========================>....] - ETA: 17s - loss: 0.2080 - acc: 0.9277WARNING:tensorflow:Can save best model only with val_acc available, skipping.\n",
            "78/86 [==========================>...] - ETA: 15s - loss: 0.2091 - acc: 0.9275WARNING:tensorflow:Can save best model only with val_acc available, skipping.\n",
            "79/86 [==========================>...] - ETA: 13s - loss: 0.2091 - acc: 0.9279WARNING:tensorflow:Can save best model only with val_acc available, skipping.\n",
            "80/86 [==========================>...] - ETA: 11s - loss: 0.2088 - acc: 0.9278WARNING:tensorflow:Can save best model only with val_acc available, skipping.\n",
            "81/86 [===========================>..] - ETA: 9s - loss: 0.2091 - acc: 0.9277 WARNING:tensorflow:Can save best model only with val_acc available, skipping.\n",
            "82/86 [===========================>..] - ETA: 7s - loss: 0.2095 - acc: 0.9274WARNING:tensorflow:Can save best model only with val_acc available, skipping.\n",
            "83/86 [===========================>..] - ETA: 5s - loss: 0.2091 - acc: 0.9275WARNING:tensorflow:Can save best model only with val_acc available, skipping.\n",
            "84/86 [============================>.] - ETA: 3s - loss: 0.2094 - acc: 0.9274WARNING:tensorflow:Can save best model only with val_acc available, skipping.\n",
            "85/86 [============================>.] - ETA: 1s - loss: 0.2089 - acc: 0.9276WARNING:tensorflow:Can save best model only with val_acc available, skipping.\n",
            "86/86 [==============================] - 202s 2s/step - loss: 0.2077 - acc: 0.9281 - val_loss: 1.0265 - val_acc: 0.5162\n",
            "Epoch 4/10\n",
            "WARNING:tensorflow:Can save best model only with val_acc available, skipping.\n",
            " 1/86 [..............................] - ETA: 2:48 - loss: 0.1452 - acc: 0.9609WARNING:tensorflow:Can save best model only with val_acc available, skipping.\n",
            " 2/86 [..............................] - ETA: 2:27 - loss: 0.1748 - acc: 0.9551WARNING:tensorflow:Can save best model only with val_acc available, skipping.\n",
            " 3/86 [>.............................] - ETA: 2:28 - loss: 0.1718 - acc: 0.9479WARNING:tensorflow:Can save best model only with val_acc available, skipping.\n",
            " 4/86 [>.............................] - ETA: 2:26 - loss: 0.1870 - acc: 0.9395WARNING:tensorflow:Can save best model only with val_acc available, skipping.\n",
            " 5/86 [>.............................] - ETA: 2:24 - loss: 0.1929 - acc: 0.9375WARNING:tensorflow:Can save best model only with val_acc available, skipping.\n",
            " 6/86 [=>............................] - ETA: 2:23 - loss: 0.1943 - acc: 0.9395WARNING:tensorflow:Can save best model only with val_acc available, skipping.\n",
            " 7/86 [=>............................] - ETA: 2:21 - loss: 0.1877 - acc: 0.9420WARNING:tensorflow:Can save best model only with val_acc available, skipping.\n",
            " 8/86 [=>............................] - ETA: 2:19 - loss: 0.1904 - acc: 0.9419WARNING:tensorflow:Can save best model only with val_acc available, skipping.\n",
            " 9/86 [==>...........................] - ETA: 2:17 - loss: 0.1858 - acc: 0.9423WARNING:tensorflow:Can save best model only with val_acc available, skipping.\n",
            "10/86 [==>...........................] - ETA: 2:15 - loss: 0.1929 - acc: 0.9383WARNING:tensorflow:Can save best model only with val_acc available, skipping.\n",
            "11/86 [==>...........................] - ETA: 2:13 - loss: 0.1958 - acc: 0.9343WARNING:tensorflow:Can save best model only with val_acc available, skipping.\n",
            "12/86 [===>..........................] - ETA: 2:12 - loss: 0.1930 - acc: 0.9355WARNING:tensorflow:Can save best model only with val_acc available, skipping.\n",
            "13/86 [===>..........................] - ETA: 2:10 - loss: 0.1920 - acc: 0.9360WARNING:tensorflow:Can save best model only with val_acc available, skipping.\n",
            "14/86 [===>..........................] - ETA: 2:08 - loss: 0.1901 - acc: 0.9367WARNING:tensorflow:Can save best model only with val_acc available, skipping.\n",
            "15/86 [====>.........................] - ETA: 2:06 - loss: 0.1922 - acc: 0.9354WARNING:tensorflow:Can save best model only with val_acc available, skipping.\n",
            "16/86 [====>.........................] - ETA: 2:05 - loss: 0.1910 - acc: 0.9353WARNING:tensorflow:Can save best model only with val_acc available, skipping.\n",
            "17/86 [====>.........................] - ETA: 2:03 - loss: 0.1894 - acc: 0.9361WARNING:tensorflow:Can save best model only with val_acc available, skipping.\n",
            "18/86 [=====>........................] - ETA: 2:01 - loss: 0.1875 - acc: 0.9373WARNING:tensorflow:Can save best model only with val_acc available, skipping.\n",
            "19/86 [=====>........................] - ETA: 2:00 - loss: 0.1853 - acc: 0.9381WARNING:tensorflow:Can save best model only with val_acc available, skipping.\n",
            "20/86 [=====>........................] - ETA: 1:58 - loss: 0.1835 - acc: 0.9387WARNING:tensorflow:Can save best model only with val_acc available, skipping.\n",
            "21/86 [======>.......................] - ETA: 1:57 - loss: 0.1823 - acc: 0.9388WARNING:tensorflow:Can save best model only with val_acc available, skipping.\n",
            "22/86 [======>.......................] - ETA: 1:55 - loss: 0.1823 - acc: 0.9389WARNING:tensorflow:Can save best model only with val_acc available, skipping.\n",
            "23/86 [=======>......................] - ETA: 1:54 - loss: 0.1829 - acc: 0.9383WARNING:tensorflow:Can save best model only with val_acc available, skipping.\n",
            "24/86 [=======>......................] - ETA: 1:52 - loss: 0.1814 - acc: 0.9390WARNING:tensorflow:Can save best model only with val_acc available, skipping.\n",
            "25/86 [=======>......................] - ETA: 1:50 - loss: 0.1830 - acc: 0.9377WARNING:tensorflow:Can save best model only with val_acc available, skipping.\n",
            "26/86 [========>.....................] - ETA: 1:49 - loss: 0.1819 - acc: 0.9381WARNING:tensorflow:Can save best model only with val_acc available, skipping.\n",
            "27/86 [========>.....................] - ETA: 1:47 - loss: 0.1844 - acc: 0.9384WARNING:tensorflow:Can save best model only with val_acc available, skipping.\n",
            "28/86 [========>.....................] - ETA: 1:45 - loss: 0.1842 - acc: 0.9378WARNING:tensorflow:Can save best model only with val_acc available, skipping.\n",
            "29/86 [=========>....................] - ETA: 1:43 - loss: 0.1843 - acc: 0.9379WARNING:tensorflow:Can save best model only with val_acc available, skipping.\n",
            "30/86 [=========>....................] - ETA: 1:41 - loss: 0.1860 - acc: 0.9367WARNING:tensorflow:Can save best model only with val_acc available, skipping.\n",
            "31/86 [=========>....................] - ETA: 1:39 - loss: 0.1865 - acc: 0.9366WARNING:tensorflow:Can save best model only with val_acc available, skipping.\n",
            "32/86 [==========>...................] - ETA: 1:37 - loss: 0.1853 - acc: 0.9369WARNING:tensorflow:Can save best model only with val_acc available, skipping.\n",
            "33/86 [==========>...................] - ETA: 1:36 - loss: 0.1850 - acc: 0.9370WARNING:tensorflow:Can save best model only with val_acc available, skipping.\n",
            "34/86 [==========>...................] - ETA: 1:34 - loss: 0.1851 - acc: 0.9373WARNING:tensorflow:Can save best model only with val_acc available, skipping.\n",
            "35/86 [===========>..................] - ETA: 1:32 - loss: 0.1873 - acc: 0.9371WARNING:tensorflow:Can save best model only with val_acc available, skipping.\n",
            "36/86 [===========>..................] - ETA: 1:30 - loss: 0.1893 - acc: 0.9364WARNING:tensorflow:Can save best model only with val_acc available, skipping.\n",
            "37/86 [===========>..................] - ETA: 1:28 - loss: 0.1895 - acc: 0.9363WARNING:tensorflow:Can save best model only with val_acc available, skipping.\n",
            "38/86 [============>.................] - ETA: 1:26 - loss: 0.1894 - acc: 0.9360WARNING:tensorflow:Can save best model only with val_acc available, skipping.\n",
            "39/86 [============>.................] - ETA: 1:22 - loss: 0.1895 - acc: 0.9360WARNING:tensorflow:Can save best model only with val_acc available, skipping.\n",
            "40/86 [============>.................] - ETA: 1:21 - loss: 0.1902 - acc: 0.9353WARNING:tensorflow:Can save best model only with val_acc available, skipping.\n",
            "41/86 [=============>................] - ETA: 1:19 - loss: 0.1902 - acc: 0.9357WARNING:tensorflow:Can save best model only with val_acc available, skipping.\n",
            "42/86 [=============>................] - ETA: 1:17 - loss: 0.1901 - acc: 0.9355WARNING:tensorflow:Can save best model only with val_acc available, skipping.\n",
            "43/86 [==============>...............] - ETA: 1:16 - loss: 0.1900 - acc: 0.9354WARNING:tensorflow:Can save best model only with val_acc available, skipping.\n",
            "44/86 [==============>...............] - ETA: 1:14 - loss: 0.1895 - acc: 0.9354WARNING:tensorflow:Can save best model only with val_acc available, skipping.\n",
            "45/86 [==============>...............] - ETA: 1:12 - loss: 0.1899 - acc: 0.9356WARNING:tensorflow:Can save best model only with val_acc available, skipping.\n",
            "46/86 [===============>..............] - ETA: 1:10 - loss: 0.1900 - acc: 0.9355WARNING:tensorflow:Can save best model only with val_acc available, skipping.\n",
            "47/86 [===============>..............] - ETA: 1:09 - loss: 0.1906 - acc: 0.9356WARNING:tensorflow:Can save best model only with val_acc available, skipping.\n",
            "48/86 [===============>..............] - ETA: 1:07 - loss: 0.1905 - acc: 0.9359WARNING:tensorflow:Can save best model only with val_acc available, skipping.\n",
            "49/86 [================>.............] - ETA: 1:05 - loss: 0.1920 - acc: 0.9356WARNING:tensorflow:Can save best model only with val_acc available, skipping.\n",
            "50/86 [================>.............] - ETA: 1:03 - loss: 0.1923 - acc: 0.9355WARNING:tensorflow:Can save best model only with val_acc available, skipping.\n",
            "51/86 [================>.............] - ETA: 1:02 - loss: 0.1913 - acc: 0.9359WARNING:tensorflow:Can save best model only with val_acc available, skipping.\n",
            "52/86 [=================>............] - ETA: 1:00 - loss: 0.1908 - acc: 0.9362WARNING:tensorflow:Can save best model only with val_acc available, skipping.\n",
            "53/86 [=================>............] - ETA: 58s - loss: 0.1895 - acc: 0.9366 WARNING:tensorflow:Can save best model only with val_acc available, skipping.\n",
            "54/86 [=================>............] - ETA: 56s - loss: 0.1905 - acc: 0.9365WARNING:tensorflow:Can save best model only with val_acc available, skipping.\n",
            "55/86 [==================>...........] - ETA: 55s - loss: 0.1891 - acc: 0.9371WARNING:tensorflow:Can save best model only with val_acc available, skipping.\n",
            "56/86 [==================>...........] - ETA: 53s - loss: 0.1889 - acc: 0.9366WARNING:tensorflow:Can save best model only with val_acc available, skipping.\n",
            "57/86 [==================>...........] - ETA: 51s - loss: 0.1891 - acc: 0.9367WARNING:tensorflow:Can save best model only with val_acc available, skipping.\n",
            "58/86 [===================>..........] - ETA: 49s - loss: 0.1889 - acc: 0.9367WARNING:tensorflow:Can save best model only with val_acc available, skipping.\n",
            "59/86 [===================>..........] - ETA: 47s - loss: 0.1887 - acc: 0.9366WARNING:tensorflow:Can save best model only with val_acc available, skipping.\n",
            "60/86 [===================>..........] - ETA: 46s - loss: 0.1883 - acc: 0.9370WARNING:tensorflow:Can save best model only with val_acc available, skipping.\n",
            "61/86 [====================>.........] - ETA: 44s - loss: 0.1886 - acc: 0.9370WARNING:tensorflow:Can save best model only with val_acc available, skipping.\n",
            "62/86 [====================>.........] - ETA: 42s - loss: 0.1887 - acc: 0.9369WARNING:tensorflow:Can save best model only with val_acc available, skipping.\n",
            "63/86 [====================>.........] - ETA: 40s - loss: 0.1894 - acc: 0.9367WARNING:tensorflow:Can save best model only with val_acc available, skipping.\n",
            "64/86 [=====================>........] - ETA: 39s - loss: 0.1890 - acc: 0.9368WARNING:tensorflow:Can save best model only with val_acc available, skipping.\n",
            "65/86 [=====================>........] - ETA: 37s - loss: 0.1885 - acc: 0.9368WARNING:tensorflow:Can save best model only with val_acc available, skipping.\n",
            "66/86 [======================>.......] - ETA: 35s - loss: 0.1880 - acc: 0.9371WARNING:tensorflow:Can save best model only with val_acc available, skipping.\n",
            "67/86 [======================>.......] - ETA: 33s - loss: 0.1880 - acc: 0.9370WARNING:tensorflow:Can save best model only with val_acc available, skipping.\n",
            "68/86 [======================>.......] - ETA: 31s - loss: 0.1870 - acc: 0.9373WARNING:tensorflow:Can save best model only with val_acc available, skipping.\n",
            "69/86 [=======================>......] - ETA: 30s - loss: 0.1876 - acc: 0.9369WARNING:tensorflow:Can save best model only with val_acc available, skipping.\n",
            "70/86 [=======================>......] - ETA: 28s - loss: 0.1882 - acc: 0.9368WARNING:tensorflow:Can save best model only with val_acc available, skipping.\n",
            "71/86 [=======================>......] - ETA: 26s - loss: 0.1874 - acc: 0.9372WARNING:tensorflow:Can save best model only with val_acc available, skipping.\n",
            "72/86 [========================>.....] - ETA: 24s - loss: 0.1867 - acc: 0.9374WARNING:tensorflow:Can save best model only with val_acc available, skipping.\n",
            "73/86 [========================>.....] - ETA: 23s - loss: 0.1877 - acc: 0.9371WARNING:tensorflow:Can save best model only with val_acc available, skipping.\n",
            "74/86 [========================>.....] - ETA: 21s - loss: 0.1873 - acc: 0.9371WARNING:tensorflow:Can save best model only with val_acc available, skipping.\n",
            "75/86 [=========================>....] - ETA: 19s - loss: 0.1876 - acc: 0.9371WARNING:tensorflow:Can save best model only with val_acc available, skipping.\n",
            "76/86 [=========================>....] - ETA: 17s - loss: 0.1879 - acc: 0.9370WARNING:tensorflow:Can save best model only with val_acc available, skipping.\n",
            "77/86 [=========================>....] - ETA: 16s - loss: 0.1878 - acc: 0.9373WARNING:tensorflow:Can save best model only with val_acc available, skipping.\n",
            "78/86 [==========================>...] - ETA: 14s - loss: 0.1881 - acc: 0.9369WARNING:tensorflow:Can save best model only with val_acc available, skipping.\n",
            "79/86 [==========================>...] - ETA: 12s - loss: 0.1877 - acc: 0.9369WARNING:tensorflow:Can save best model only with val_acc available, skipping.\n",
            "80/86 [==========================>...] - ETA: 10s - loss: 0.1880 - acc: 0.9369WARNING:tensorflow:Can save best model only with val_acc available, skipping.\n",
            "81/86 [===========================>..] - ETA: 8s - loss: 0.1888 - acc: 0.9366 WARNING:tensorflow:Can save best model only with val_acc available, skipping.\n",
            "82/86 [===========================>..] - ETA: 7s - loss: 0.1881 - acc: 0.9369WARNING:tensorflow:Can save best model only with val_acc available, skipping.\n",
            "83/86 [===========================>..] - ETA: 5s - loss: 0.1883 - acc: 0.9366WARNING:tensorflow:Can save best model only with val_acc available, skipping.\n",
            "84/86 [============================>.] - ETA: 3s - loss: 0.1879 - acc: 0.9368WARNING:tensorflow:Can save best model only with val_acc available, skipping.\n",
            "85/86 [============================>.] - ETA: 1s - loss: 0.1877 - acc: 0.9370WARNING:tensorflow:Can save best model only with val_acc available, skipping.\n",
            "86/86 [==============================] - 193s 2s/step - loss: 0.1884 - acc: 0.9369 - val_loss: 0.5301 - val_acc: 0.7418\n",
            "Epoch 5/10\n",
            "WARNING:tensorflow:Can save best model only with val_acc available, skipping.\n",
            " 1/86 [..............................] - ETA: 2:51 - loss: 0.1403 - acc: 0.9609WARNING:tensorflow:Can save best model only with val_acc available, skipping.\n",
            " 2/86 [..............................] - ETA: 2:29 - loss: 0.1600 - acc: 0.9512WARNING:tensorflow:Can save best model only with val_acc available, skipping.\n",
            " 3/86 [>.............................] - ETA: 2:28 - loss: 0.1741 - acc: 0.9440WARNING:tensorflow:Can save best model only with val_acc available, skipping.\n",
            " 4/86 [>.............................] - ETA: 2:28 - loss: 0.1931 - acc: 0.9336WARNING:tensorflow:Can save best model only with val_acc available, skipping.\n",
            " 5/86 [>.............................] - ETA: 2:27 - loss: 0.1849 - acc: 0.9352WARNING:tensorflow:Can save best model only with val_acc available, skipping.\n",
            " 6/86 [=>............................] - ETA: 2:25 - loss: 0.1911 - acc: 0.9368WARNING:tensorflow:Can save best model only with val_acc available, skipping.\n",
            " 7/86 [=>............................] - ETA: 2:23 - loss: 0.1911 - acc: 0.9347WARNING:tensorflow:Can save best model only with val_acc available, skipping.\n",
            " 8/86 [=>............................] - ETA: 2:21 - loss: 0.1966 - acc: 0.9351WARNING:tensorflow:Can save best model only with val_acc available, skipping.\n",
            " 9/86 [==>...........................] - ETA: 2:19 - loss: 0.1912 - acc: 0.9384WARNING:tensorflow:Can save best model only with val_acc available, skipping.\n",
            "10/86 [==>...........................] - ETA: 2:18 - loss: 0.1996 - acc: 0.9406WARNING:tensorflow:Can save best model only with val_acc available, skipping.\n",
            "11/86 [==>...........................] - ETA: 2:16 - loss: 0.2000 - acc: 0.9400WARNING:tensorflow:Can save best model only with val_acc available, skipping.\n",
            "12/86 [===>..........................] - ETA: 2:14 - loss: 0.1997 - acc: 0.9382WARNING:tensorflow:Can save best model only with val_acc available, skipping.\n",
            "13/86 [===>..........................] - ETA: 2:12 - loss: 0.1953 - acc: 0.9390WARNING:tensorflow:Can save best model only with val_acc available, skipping.\n",
            "14/86 [===>..........................] - ETA: 2:10 - loss: 0.1964 - acc: 0.9378WARNING:tensorflow:Can save best model only with val_acc available, skipping.\n",
            "15/86 [====>.........................] - ETA: 2:09 - loss: 0.1964 - acc: 0.9370WARNING:tensorflow:Can save best model only with val_acc available, skipping.\n",
            "16/86 [====>.........................] - ETA: 2:07 - loss: 0.1925 - acc: 0.9375WARNING:tensorflow:Can save best model only with val_acc available, skipping.\n",
            "17/86 [====>.........................] - ETA: 2:05 - loss: 0.1913 - acc: 0.9386WARNING:tensorflow:Can save best model only with val_acc available, skipping.\n",
            "18/86 [=====>........................] - ETA: 2:03 - loss: 0.1894 - acc: 0.9388WARNING:tensorflow:Can save best model only with val_acc available, skipping.\n",
            "19/86 [=====>........................] - ETA: 2:01 - loss: 0.1888 - acc: 0.9385WARNING:tensorflow:Can save best model only with val_acc available, skipping.\n",
            "20/86 [=====>........................] - ETA: 1:59 - loss: 0.1884 - acc: 0.9379WARNING:tensorflow:Can save best model only with val_acc available, skipping.\n",
            "21/86 [======>.......................] - ETA: 1:58 - loss: 0.1880 - acc: 0.9381WARNING:tensorflow:Can save best model only with val_acc available, skipping.\n",
            "22/86 [======>.......................] - ETA: 1:56 - loss: 0.1879 - acc: 0.9379WARNING:tensorflow:Can save best model only with val_acc available, skipping.\n",
            "23/86 [=======>......................] - ETA: 1:54 - loss: 0.1895 - acc: 0.9370WARNING:tensorflow:Can save best model only with val_acc available, skipping.\n",
            "24/86 [=======>......................] - ETA: 1:52 - loss: 0.1888 - acc: 0.9373WARNING:tensorflow:Can save best model only with val_acc available, skipping.\n",
            "25/86 [=======>......................] - ETA: 1:50 - loss: 0.1886 - acc: 0.9375WARNING:tensorflow:Can save best model only with val_acc available, skipping.\n",
            "26/86 [========>.....................] - ETA: 1:48 - loss: 0.1888 - acc: 0.9373WARNING:tensorflow:Can save best model only with val_acc available, skipping.\n",
            "27/86 [========>.....................] - ETA: 1:47 - loss: 0.1883 - acc: 0.9369WARNING:tensorflow:Can save best model only with val_acc available, skipping.\n",
            "28/86 [========>.....................] - ETA: 1:45 - loss: 0.1890 - acc: 0.9364WARNING:tensorflow:Can save best model only with val_acc available, skipping.\n",
            "29/86 [=========>....................] - ETA: 1:43 - loss: 0.1883 - acc: 0.9366WARNING:tensorflow:Can save best model only with val_acc available, skipping.\n",
            "30/86 [=========>....................] - ETA: 1:41 - loss: 0.1899 - acc: 0.9365WARNING:tensorflow:Can save best model only with val_acc available, skipping.\n",
            "31/86 [=========>....................] - ETA: 1:39 - loss: 0.1923 - acc: 0.9352WARNING:tensorflow:Can save best model only with val_acc available, skipping.\n",
            "32/86 [==========>...................] - ETA: 1:37 - loss: 0.1932 - acc: 0.9351WARNING:tensorflow:Can save best model only with val_acc available, skipping.\n",
            "33/86 [==========>...................] - ETA: 1:36 - loss: 0.1924 - acc: 0.9354WARNING:tensorflow:Can save best model only with val_acc available, skipping.\n",
            "34/86 [==========>...................] - ETA: 1:34 - loss: 0.1937 - acc: 0.9352WARNING:tensorflow:Can save best model only with val_acc available, skipping.\n",
            "35/86 [===========>..................] - ETA: 1:32 - loss: 0.1924 - acc: 0.9355WARNING:tensorflow:Can save best model only with val_acc available, skipping.\n",
            "36/86 [===========>..................] - ETA: 1:30 - loss: 0.1906 - acc: 0.9361WARNING:tensorflow:Can save best model only with val_acc available, skipping.\n",
            "37/86 [===========>..................] - ETA: 1:28 - loss: 0.1925 - acc: 0.9356WARNING:tensorflow:Can save best model only with val_acc available, skipping.\n",
            "38/86 [============>.................] - ETA: 1:26 - loss: 0.1911 - acc: 0.9363WARNING:tensorflow:Can save best model only with val_acc available, skipping.\n",
            "39/86 [============>.................] - ETA: 1:25 - loss: 0.1953 - acc: 0.9356WARNING:tensorflow:Can save best model only with val_acc available, skipping.\n",
            "40/86 [============>.................] - ETA: 1:23 - loss: 0.1955 - acc: 0.9354WARNING:tensorflow:Can save best model only with val_acc available, skipping.\n",
            "41/86 [=============>................] - ETA: 1:21 - loss: 0.1950 - acc: 0.9353WARNING:tensorflow:Can save best model only with val_acc available, skipping.\n",
            "42/86 [=============>................] - ETA: 1:19 - loss: 0.1953 - acc: 0.9351WARNING:tensorflow:Can save best model only with val_acc available, skipping.\n",
            "43/86 [==============>...............] - ETA: 1:17 - loss: 0.1940 - acc: 0.9355WARNING:tensorflow:Can save best model only with val_acc available, skipping.\n",
            "44/86 [==============>...............] - ETA: 1:16 - loss: 0.1940 - acc: 0.9353WARNING:tensorflow:Can save best model only with val_acc available, skipping.\n",
            "45/86 [==============>...............] - ETA: 1:14 - loss: 0.1935 - acc: 0.9356WARNING:tensorflow:Can save best model only with val_acc available, skipping.\n",
            "46/86 [===============>..............] - ETA: 1:12 - loss: 0.1920 - acc: 0.9363WARNING:tensorflow:Can save best model only with val_acc available, skipping.\n",
            "47/86 [===============>..............] - ETA: 1:10 - loss: 0.1927 - acc: 0.9361WARNING:tensorflow:Can save best model only with val_acc available, skipping.\n",
            "48/86 [===============>..............] - ETA: 1:08 - loss: 0.1926 - acc: 0.9360WARNING:tensorflow:Can save best model only with val_acc available, skipping.\n",
            "49/86 [================>.............] - ETA: 1:07 - loss: 0.1941 - acc: 0.9356WARNING:tensorflow:Can save best model only with val_acc available, skipping.\n",
            "50/86 [================>.............] - ETA: 1:05 - loss: 0.1933 - acc: 0.9357WARNING:tensorflow:Can save best model only with val_acc available, skipping.\n",
            "51/86 [================>.............] - ETA: 1:03 - loss: 0.1921 - acc: 0.9362WARNING:tensorflow:Can save best model only with val_acc available, skipping.\n",
            "52/86 [=================>............] - ETA: 1:01 - loss: 0.1914 - acc: 0.9364WARNING:tensorflow:Can save best model only with val_acc available, skipping.\n",
            "53/86 [=================>............] - ETA: 59s - loss: 0.1903 - acc: 0.9367 WARNING:tensorflow:Can save best model only with val_acc available, skipping.\n",
            "54/86 [=================>............] - ETA: 58s - loss: 0.1892 - acc: 0.9370WARNING:tensorflow:Can save best model only with val_acc available, skipping.\n",
            "55/86 [==================>...........] - ETA: 56s - loss: 0.1896 - acc: 0.9371WARNING:tensorflow:Can save best model only with val_acc available, skipping.\n",
            "56/86 [==================>...........] - ETA: 54s - loss: 0.1898 - acc: 0.9368WARNING:tensorflow:Can save best model only with val_acc available, skipping.\n",
            "57/86 [==================>...........] - ETA: 52s - loss: 0.1899 - acc: 0.9365WARNING:tensorflow:Can save best model only with val_acc available, skipping.\n",
            "58/86 [===================>..........] - ETA: 50s - loss: 0.1891 - acc: 0.9366WARNING:tensorflow:Can save best model only with val_acc available, skipping.\n",
            "59/86 [===================>..........] - ETA: 49s - loss: 0.1887 - acc: 0.9368WARNING:tensorflow:Can save best model only with val_acc available, skipping.\n",
            "60/86 [===================>..........] - ETA: 47s - loss: 0.1881 - acc: 0.9370WARNING:tensorflow:Can save best model only with val_acc available, skipping.\n",
            "61/86 [====================>.........] - ETA: 45s - loss: 0.1887 - acc: 0.9372WARNING:tensorflow:Can save best model only with val_acc available, skipping.\n",
            "62/86 [====================>.........] - ETA: 43s - loss: 0.1887 - acc: 0.9372WARNING:tensorflow:Can save best model only with val_acc available, skipping.\n",
            "63/86 [====================>.........] - ETA: 41s - loss: 0.1906 - acc: 0.9368WARNING:tensorflow:Can save best model only with val_acc available, skipping.\n",
            "64/86 [=====================>........] - ETA: 39s - loss: 0.1909 - acc: 0.9367WARNING:tensorflow:Can save best model only with val_acc available, skipping.\n",
            "65/86 [=====================>........] - ETA: 38s - loss: 0.1919 - acc: 0.9365WARNING:tensorflow:Can save best model only with val_acc available, skipping.\n",
            "66/86 [======================>.......] - ETA: 36s - loss: 0.1913 - acc: 0.9367WARNING:tensorflow:Can save best model only with val_acc available, skipping.\n",
            "67/86 [======================>.......] - ETA: 34s - loss: 0.1911 - acc: 0.9367WARNING:tensorflow:Can save best model only with val_acc available, skipping.\n",
            "68/86 [======================>.......] - ETA: 32s - loss: 0.1907 - acc: 0.9368WARNING:tensorflow:Can save best model only with val_acc available, skipping.\n",
            "69/86 [=======================>......] - ETA: 30s - loss: 0.1911 - acc: 0.9367WARNING:tensorflow:Can save best model only with val_acc available, skipping.\n",
            "70/86 [=======================>......] - ETA: 29s - loss: 0.1907 - acc: 0.9367WARNING:tensorflow:Can save best model only with val_acc available, skipping.\n",
            "71/86 [=======================>......] - ETA: 27s - loss: 0.1903 - acc: 0.9370WARNING:tensorflow:Can save best model only with val_acc available, skipping.\n",
            "72/86 [========================>.....] - ETA: 25s - loss: 0.1901 - acc: 0.9371WARNING:tensorflow:Can save best model only with val_acc available, skipping.\n",
            "73/86 [========================>.....] - ETA: 23s - loss: 0.1897 - acc: 0.9371WARNING:tensorflow:Can save best model only with val_acc available, skipping.\n",
            "74/86 [========================>.....] - ETA: 21s - loss: 0.1904 - acc: 0.9369WARNING:tensorflow:Can save best model only with val_acc available, skipping.\n",
            "75/86 [=========================>....] - ETA: 19s - loss: 0.1903 - acc: 0.9368WARNING:tensorflow:Can save best model only with val_acc available, skipping.\n",
            "76/86 [=========================>....] - ETA: 17s - loss: 0.1908 - acc: 0.9366WARNING:tensorflow:Can save best model only with val_acc available, skipping.\n",
            "77/86 [=========================>....] - ETA: 16s - loss: 0.1901 - acc: 0.9368WARNING:tensorflow:Can save best model only with val_acc available, skipping.\n",
            "78/86 [==========================>...] - ETA: 14s - loss: 0.1894 - acc: 0.9371WARNING:tensorflow:Can save best model only with val_acc available, skipping.\n",
            "79/86 [==========================>...] - ETA: 12s - loss: 0.1885 - acc: 0.9377WARNING:tensorflow:Can save best model only with val_acc available, skipping.\n",
            "80/86 [==========================>...] - ETA: 10s - loss: 0.1878 - acc: 0.9378WARNING:tensorflow:Can save best model only with val_acc available, skipping.\n",
            "81/86 [===========================>..] - ETA: 8s - loss: 0.1880 - acc: 0.9377 WARNING:tensorflow:Can save best model only with val_acc available, skipping.\n",
            "82/86 [===========================>..] - ETA: 7s - loss: 0.1879 - acc: 0.9375WARNING:tensorflow:Can save best model only with val_acc available, skipping.\n",
            "83/86 [===========================>..] - ETA: 5s - loss: 0.1877 - acc: 0.9375WARNING:tensorflow:Can save best model only with val_acc available, skipping.\n",
            "84/86 [============================>.] - ETA: 3s - loss: 0.1886 - acc: 0.9374WARNING:tensorflow:Can save best model only with val_acc available, skipping.\n",
            "85/86 [============================>.] - ETA: 1s - loss: 0.1885 - acc: 0.9373WARNING:tensorflow:Can save best model only with val_acc available, skipping.\n",
            "86/86 [==============================] - 195s 2s/step - loss: 0.1884 - acc: 0.9369 - val_loss: 0.3124 - val_acc: 0.8705\n",
            "Epoch 6/10\n",
            "WARNING:tensorflow:Can save best model only with val_acc available, skipping.\n",
            " 1/86 [..............................] - ETA: 2:50 - loss: 0.1485 - acc: 0.9531WARNING:tensorflow:Can save best model only with val_acc available, skipping.\n",
            " 2/86 [..............................] - ETA: 2:26 - loss: 0.1558 - acc: 0.9531WARNING:tensorflow:Can save best model only with val_acc available, skipping.\n",
            " 3/86 [>.............................] - ETA: 1:17 - loss: 0.1580 - acc: 0.9504WARNING:tensorflow:Can save best model only with val_acc available, skipping.\n",
            " 4/86 [>.............................] - ETA: 1:46 - loss: 0.1878 - acc: 0.9450WARNING:tensorflow:Can save best model only with val_acc available, skipping.\n",
            " 5/86 [>.............................] - ETA: 1:54 - loss: 0.1906 - acc: 0.9394WARNING:tensorflow:Can save best model only with val_acc available, skipping.\n",
            " 6/86 [=>............................] - ETA: 1:59 - loss: 0.2039 - acc: 0.9360WARNING:tensorflow:Can save best model only with val_acc available, skipping.\n",
            " 7/86 [=>............................] - ETA: 2:01 - loss: 0.2055 - acc: 0.9337WARNING:tensorflow:Can save best model only with val_acc available, skipping.\n",
            " 8/86 [=>............................] - ETA: 2:02 - loss: 0.1975 - acc: 0.9353WARNING:tensorflow:Can save best model only with val_acc available, skipping.\n",
            " 9/86 [==>...........................] - ETA: 2:03 - loss: 0.1987 - acc: 0.9341WARNING:tensorflow:Can save best model only with val_acc available, skipping.\n",
            "10/86 [==>...........................] - ETA: 2:03 - loss: 0.2004 - acc: 0.9332WARNING:tensorflow:Can save best model only with val_acc available, skipping.\n",
            "11/86 [==>...........................] - ETA: 2:02 - loss: 0.1982 - acc: 0.9348WARNING:tensorflow:Can save best model only with val_acc available, skipping.\n",
            "12/86 [===>..........................] - ETA: 2:02 - loss: 0.1946 - acc: 0.9368WARNING:tensorflow:Can save best model only with val_acc available, skipping.\n",
            "13/86 [===>..........................] - ETA: 2:01 - loss: 0.1904 - acc: 0.9365WARNING:tensorflow:Can save best model only with val_acc available, skipping.\n",
            "14/86 [===>..........................] - ETA: 2:00 - loss: 0.1915 - acc: 0.9372WARNING:tensorflow:Can save best model only with val_acc available, skipping.\n",
            "15/86 [====>.........................] - ETA: 1:59 - loss: 0.1911 - acc: 0.9367WARNING:tensorflow:Can save best model only with val_acc available, skipping.\n",
            "16/86 [====>.........................] - ETA: 1:58 - loss: 0.1901 - acc: 0.9367WARNING:tensorflow:Can save best model only with val_acc available, skipping.\n",
            "17/86 [====>.........................] - ETA: 1:57 - loss: 0.1863 - acc: 0.9375WARNING:tensorflow:Can save best model only with val_acc available, skipping.\n",
            "18/86 [=====>........................] - ETA: 1:56 - loss: 0.1884 - acc: 0.9364WARNING:tensorflow:Can save best model only with val_acc available, skipping.\n",
            "19/86 [=====>........................] - ETA: 1:54 - loss: 0.1848 - acc: 0.9375WARNING:tensorflow:Can save best model only with val_acc available, skipping.\n",
            "20/86 [=====>........................] - ETA: 1:53 - loss: 0.1851 - acc: 0.9373WARNING:tensorflow:Can save best model only with val_acc available, skipping.\n",
            "21/86 [======>.......................] - ETA: 1:51 - loss: 0.1843 - acc: 0.9377WARNING:tensorflow:Can save best model only with val_acc available, skipping.\n",
            "22/86 [======>.......................] - ETA: 1:50 - loss: 0.1862 - acc: 0.9375WARNING:tensorflow:Can save best model only with val_acc available, skipping.\n",
            "23/86 [=======>......................] - ETA: 1:48 - loss: 0.1861 - acc: 0.9373WARNING:tensorflow:Can save best model only with val_acc available, skipping.\n",
            "24/86 [=======>......................] - ETA: 1:47 - loss: 0.1860 - acc: 0.9368WARNING:tensorflow:Can save best model only with val_acc available, skipping.\n",
            "25/86 [=======>......................] - ETA: 1:45 - loss: 0.1858 - acc: 0.9365WARNING:tensorflow:Can save best model only with val_acc available, skipping.\n",
            "26/86 [========>.....................] - ETA: 1:44 - loss: 0.1859 - acc: 0.9369WARNING:tensorflow:Can save best model only with val_acc available, skipping.\n",
            "27/86 [========>.....................] - ETA: 1:42 - loss: 0.1844 - acc: 0.9378WARNING:tensorflow:Can save best model only with val_acc available, skipping.\n",
            "28/86 [========>.....................] - ETA: 1:40 - loss: 0.1829 - acc: 0.9382WARNING:tensorflow:Can save best model only with val_acc available, skipping.\n",
            "29/86 [=========>....................] - ETA: 1:39 - loss: 0.1822 - acc: 0.9381WARNING:tensorflow:Can save best model only with val_acc available, skipping.\n",
            "30/86 [=========>....................] - ETA: 1:37 - loss: 0.1842 - acc: 0.9375WARNING:tensorflow:Can save best model only with val_acc available, skipping.\n",
            "31/86 [=========>....................] - ETA: 1:35 - loss: 0.1819 - acc: 0.9383WARNING:tensorflow:Can save best model only with val_acc available, skipping.\n",
            "32/86 [==========>...................] - ETA: 1:34 - loss: 0.1841 - acc: 0.9370WARNING:tensorflow:Can save best model only with val_acc available, skipping.\n",
            "33/86 [==========>...................] - ETA: 1:32 - loss: 0.1832 - acc: 0.9377WARNING:tensorflow:Can save best model only with val_acc available, skipping.\n",
            "34/86 [==========>...................] - ETA: 1:30 - loss: 0.1827 - acc: 0.9376WARNING:tensorflow:Can save best model only with val_acc available, skipping.\n",
            "35/86 [===========>..................] - ETA: 1:29 - loss: 0.1850 - acc: 0.9370WARNING:tensorflow:Can save best model only with val_acc available, skipping.\n",
            "36/86 [===========>..................] - ETA: 1:27 - loss: 0.1839 - acc: 0.9376WARNING:tensorflow:Can save best model only with val_acc available, skipping.\n",
            "37/86 [===========>..................] - ETA: 1:25 - loss: 0.1825 - acc: 0.9383WARNING:tensorflow:Can save best model only with val_acc available, skipping.\n",
            "38/86 [============>.................] - ETA: 1:24 - loss: 0.1825 - acc: 0.9382WARNING:tensorflow:Can save best model only with val_acc available, skipping.\n",
            "39/86 [============>.................] - ETA: 1:22 - loss: 0.1827 - acc: 0.9384WARNING:tensorflow:Can save best model only with val_acc available, skipping.\n",
            "40/86 [============>.................] - ETA: 1:20 - loss: 0.1817 - acc: 0.9388WARNING:tensorflow:Can save best model only with val_acc available, skipping.\n",
            "41/86 [=============>................] - ETA: 1:19 - loss: 0.1809 - acc: 0.9391WARNING:tensorflow:Can save best model only with val_acc available, skipping.\n",
            "42/86 [=============>................] - ETA: 1:17 - loss: 0.1803 - acc: 0.9391WARNING:tensorflow:Can save best model only with val_acc available, skipping.\n",
            "43/86 [==============>...............] - ETA: 1:15 - loss: 0.1801 - acc: 0.9389WARNING:tensorflow:Can save best model only with val_acc available, skipping.\n",
            "44/86 [==============>...............] - ETA: 1:13 - loss: 0.1791 - acc: 0.9392WARNING:tensorflow:Can save best model only with val_acc available, skipping.\n",
            "45/86 [==============>...............] - ETA: 1:12 - loss: 0.1816 - acc: 0.9388WARNING:tensorflow:Can save best model only with val_acc available, skipping.\n",
            "46/86 [===============>..............] - ETA: 1:10 - loss: 0.1809 - acc: 0.9391WARNING:tensorflow:Can save best model only with val_acc available, skipping.\n",
            "47/86 [===============>..............] - ETA: 1:08 - loss: 0.1796 - acc: 0.9395WARNING:tensorflow:Can save best model only with val_acc available, skipping.\n",
            "48/86 [===============>..............] - ETA: 1:06 - loss: 0.1795 - acc: 0.9394WARNING:tensorflow:Can save best model only with val_acc available, skipping.\n",
            "49/86 [================>.............] - ETA: 1:05 - loss: 0.1798 - acc: 0.9394WARNING:tensorflow:Can save best model only with val_acc available, skipping.\n",
            "50/86 [================>.............] - ETA: 1:03 - loss: 0.1800 - acc: 0.9396WARNING:tensorflow:Can save best model only with val_acc available, skipping.\n",
            "51/86 [================>.............] - ETA: 1:01 - loss: 0.1801 - acc: 0.9394WARNING:tensorflow:Can save best model only with val_acc available, skipping.\n",
            "52/86 [=================>............] - ETA: 1:00 - loss: 0.1788 - acc: 0.9396WARNING:tensorflow:Can save best model only with val_acc available, skipping.\n",
            "53/86 [=================>............] - ETA: 58s - loss: 0.1784 - acc: 0.9397 WARNING:tensorflow:Can save best model only with val_acc available, skipping.\n",
            "54/86 [=================>............] - ETA: 56s - loss: 0.1780 - acc: 0.9399WARNING:tensorflow:Can save best model only with val_acc available, skipping.\n",
            "55/86 [==================>...........] - ETA: 54s - loss: 0.1785 - acc: 0.9394WARNING:tensorflow:Can save best model only with val_acc available, skipping.\n",
            "56/86 [==================>...........] - ETA: 53s - loss: 0.1784 - acc: 0.9392WARNING:tensorflow:Can save best model only with val_acc available, skipping.\n",
            "57/86 [==================>...........] - ETA: 51s - loss: 0.1804 - acc: 0.9392WARNING:tensorflow:Can save best model only with val_acc available, skipping.\n",
            "58/86 [===================>..........] - ETA: 49s - loss: 0.1806 - acc: 0.9392WARNING:tensorflow:Can save best model only with val_acc available, skipping.\n",
            "59/86 [===================>..........] - ETA: 47s - loss: 0.1805 - acc: 0.9394WARNING:tensorflow:Can save best model only with val_acc available, skipping.\n",
            "60/86 [===================>..........] - ETA: 45s - loss: 0.1823 - acc: 0.9392WARNING:tensorflow:Can save best model only with val_acc available, skipping.\n",
            "61/86 [====================>.........] - ETA: 44s - loss: 0.1818 - acc: 0.9390WARNING:tensorflow:Can save best model only with val_acc available, skipping.\n",
            "62/86 [====================>.........] - ETA: 42s - loss: 0.1832 - acc: 0.9390WARNING:tensorflow:Can save best model only with val_acc available, skipping.\n",
            "63/86 [====================>.........] - ETA: 40s - loss: 0.1833 - acc: 0.9390WARNING:tensorflow:Can save best model only with val_acc available, skipping.\n",
            "64/86 [=====================>........] - ETA: 38s - loss: 0.1827 - acc: 0.9390WARNING:tensorflow:Can save best model only with val_acc available, skipping.\n",
            "65/86 [=====================>........] - ETA: 37s - loss: 0.1831 - acc: 0.9387WARNING:tensorflow:Can save best model only with val_acc available, skipping.\n",
            "66/86 [======================>.......] - ETA: 35s - loss: 0.1840 - acc: 0.9384WARNING:tensorflow:Can save best model only with val_acc available, skipping.\n",
            "67/86 [======================>.......] - ETA: 33s - loss: 0.1836 - acc: 0.9386WARNING:tensorflow:Can save best model only with val_acc available, skipping.\n",
            "68/86 [======================>.......] - ETA: 32s - loss: 0.1840 - acc: 0.9383WARNING:tensorflow:Can save best model only with val_acc available, skipping.\n",
            "69/86 [=======================>......] - ETA: 30s - loss: 0.1838 - acc: 0.9381WARNING:tensorflow:Can save best model only with val_acc available, skipping.\n",
            "70/86 [=======================>......] - ETA: 28s - loss: 0.1838 - acc: 0.9381WARNING:tensorflow:Can save best model only with val_acc available, skipping.\n",
            "71/86 [=======================>......] - ETA: 26s - loss: 0.1838 - acc: 0.9382WARNING:tensorflow:Can save best model only with val_acc available, skipping.\n",
            "72/86 [========================>.....] - ETA: 25s - loss: 0.1830 - acc: 0.9384WARNING:tensorflow:Can save best model only with val_acc available, skipping.\n",
            "73/86 [========================>.....] - ETA: 23s - loss: 0.1824 - acc: 0.9386WARNING:tensorflow:Can save best model only with val_acc available, skipping.\n",
            "74/86 [========================>.....] - ETA: 21s - loss: 0.1830 - acc: 0.9387WARNING:tensorflow:Can save best model only with val_acc available, skipping.\n",
            "75/86 [=========================>....] - ETA: 19s - loss: 0.1828 - acc: 0.9388WARNING:tensorflow:Can save best model only with val_acc available, skipping.\n",
            "76/86 [=========================>....] - ETA: 17s - loss: 0.1836 - acc: 0.9385WARNING:tensorflow:Can save best model only with val_acc available, skipping.\n",
            "77/86 [=========================>....] - ETA: 16s - loss: 0.1830 - acc: 0.9387WARNING:tensorflow:Can save best model only with val_acc available, skipping.\n",
            "78/86 [==========================>...] - ETA: 14s - loss: 0.1833 - acc: 0.9384WARNING:tensorflow:Can save best model only with val_acc available, skipping.\n",
            "79/86 [==========================>...] - ETA: 12s - loss: 0.1829 - acc: 0.9385WARNING:tensorflow:Can save best model only with val_acc available, skipping.\n",
            "80/86 [==========================>...] - ETA: 10s - loss: 0.1827 - acc: 0.9385WARNING:tensorflow:Can save best model only with val_acc available, skipping.\n",
            "81/86 [===========================>..] - ETA: 8s - loss: 0.1824 - acc: 0.9385 WARNING:tensorflow:Can save best model only with val_acc available, skipping.\n",
            "82/86 [===========================>..] - ETA: 7s - loss: 0.1819 - acc: 0.9388WARNING:tensorflow:Can save best model only with val_acc available, skipping.\n",
            "83/86 [===========================>..] - ETA: 5s - loss: 0.1811 - acc: 0.9391WARNING:tensorflow:Can save best model only with val_acc available, skipping.\n",
            "84/86 [============================>.] - ETA: 3s - loss: 0.1809 - acc: 0.9391WARNING:tensorflow:Can save best model only with val_acc available, skipping.\n",
            "85/86 [============================>.] - ETA: 1s - loss: 0.1816 - acc: 0.9388WARNING:tensorflow:Can save best model only with val_acc available, skipping.\n",
            "86/86 [==============================] - 193s 2s/step - loss: 0.1818 - acc: 0.9387 - val_loss: 0.2518 - val_acc: 0.9128\n",
            "Epoch 7/10\n",
            "WARNING:tensorflow:Can save best model only with val_acc available, skipping.\n",
            " 1/86 [..............................] - ETA: 2:49 - loss: 0.1527 - acc: 0.9531WARNING:tensorflow:Can save best model only with val_acc available, skipping.\n",
            " 2/86 [..............................] - ETA: 2:29 - loss: 0.1752 - acc: 0.9355WARNING:tensorflow:Can save best model only with val_acc available, skipping.\n",
            " 3/86 [>.............................] - ETA: 2:28 - loss: 0.1517 - acc: 0.9453WARNING:tensorflow:Can save best model only with val_acc available, skipping.\n",
            " 4/86 [>.............................] - ETA: 2:27 - loss: 0.1532 - acc: 0.9473WARNING:tensorflow:Can save best model only with val_acc available, skipping.\n",
            " 5/86 [>.............................] - ETA: 2:25 - loss: 0.1618 - acc: 0.9438WARNING:tensorflow:Can save best model only with val_acc available, skipping.\n",
            " 6/86 [=>............................] - ETA: 2:23 - loss: 0.1660 - acc: 0.9401WARNING:tensorflow:Can save best model only with val_acc available, skipping.\n",
            " 7/86 [=>............................] - ETA: 2:22 - loss: 0.1690 - acc: 0.9414WARNING:tensorflow:Can save best model only with val_acc available, skipping.\n",
            " 8/86 [=>............................] - ETA: 2:20 - loss: 0.1747 - acc: 0.9399WARNING:tensorflow:Can save best model only with val_acc available, skipping.\n",
            " 9/86 [==>...........................] - ETA: 2:18 - loss: 0.1784 - acc: 0.9388WARNING:tensorflow:Can save best model only with val_acc available, skipping.\n",
            "10/86 [==>...........................] - ETA: 2:16 - loss: 0.1771 - acc: 0.9391WARNING:tensorflow:Can save best model only with val_acc available, skipping.\n",
            "11/86 [==>...........................] - ETA: 2:14 - loss: 0.1770 - acc: 0.9393WARNING:tensorflow:Can save best model only with val_acc available, skipping.\n",
            "12/86 [===>..........................] - ETA: 2:12 - loss: 0.1810 - acc: 0.9382WARNING:tensorflow:Can save best model only with val_acc available, skipping.\n",
            "13/86 [===>..........................] - ETA: 2:11 - loss: 0.1788 - acc: 0.9384WARNING:tensorflow:Can save best model only with val_acc available, skipping.\n",
            "14/86 [===>..........................] - ETA: 2:09 - loss: 0.1776 - acc: 0.9395WARNING:tensorflow:Can save best model only with val_acc available, skipping.\n",
            "15/86 [====>.........................] - ETA: 2:07 - loss: 0.1751 - acc: 0.9398WARNING:tensorflow:Can save best model only with val_acc available, skipping.\n",
            "16/86 [====>.........................] - ETA: 2:05 - loss: 0.1750 - acc: 0.9399WARNING:tensorflow:Can save best model only with val_acc available, skipping.\n",
            "17/86 [====>.........................] - ETA: 2:03 - loss: 0.1761 - acc: 0.9389WARNING:tensorflow:Can save best model only with val_acc available, skipping.\n",
            "18/86 [=====>........................] - ETA: 2:02 - loss: 0.1800 - acc: 0.9382WARNING:tensorflow:Can save best model only with val_acc available, skipping.\n",
            "19/86 [=====>........................] - ETA: 2:00 - loss: 0.1810 - acc: 0.9377WARNING:tensorflow:Can save best model only with val_acc available, skipping.\n",
            "20/86 [=====>........................] - ETA: 1:58 - loss: 0.1770 - acc: 0.9387WARNING:tensorflow:Can save best model only with val_acc available, skipping.\n",
            "21/86 [======>.......................] - ETA: 1:56 - loss: 0.1781 - acc: 0.9388WARNING:tensorflow:Can save best model only with val_acc available, skipping.\n",
            "22/86 [======>.......................] - ETA: 1:54 - loss: 0.1771 - acc: 0.9389WARNING:tensorflow:Can save best model only with val_acc available, skipping.\n",
            "23/86 [=======>......................] - ETA: 1:53 - loss: 0.1782 - acc: 0.9382WARNING:tensorflow:Can save best model only with val_acc available, skipping.\n",
            "24/86 [=======>......................] - ETA: 1:51 - loss: 0.1787 - acc: 0.9378WARNING:tensorflow:Can save best model only with val_acc available, skipping.\n",
            "25/86 [=======>......................] - ETA: 1:49 - loss: 0.1776 - acc: 0.9383WARNING:tensorflow:Can save best model only with val_acc available, skipping.\n",
            "26/86 [========>.....................] - ETA: 1:47 - loss: 0.1783 - acc: 0.9380WARNING:tensorflow:Can save best model only with val_acc available, skipping.\n",
            "27/86 [========>.....................] - ETA: 1:45 - loss: 0.1772 - acc: 0.9384WARNING:tensorflow:Can save best model only with val_acc available, skipping.\n",
            "28/86 [========>.....................] - ETA: 1:44 - loss: 0.1761 - acc: 0.9389WARNING:tensorflow:Can save best model only with val_acc available, skipping.\n",
            "29/86 [=========>....................] - ETA: 1:42 - loss: 0.1746 - acc: 0.9393WARNING:tensorflow:Can save best model only with val_acc available, skipping.\n",
            "30/86 [=========>....................] - ETA: 1:40 - loss: 0.1754 - acc: 0.9391WARNING:tensorflow:Can save best model only with val_acc available, skipping.\n",
            "31/86 [=========>....................] - ETA: 1:38 - loss: 0.1767 - acc: 0.9390WARNING:tensorflow:Can save best model only with val_acc available, skipping.\n",
            "32/86 [==========>...................] - ETA: 1:37 - loss: 0.1756 - acc: 0.9393WARNING:tensorflow:Can save best model only with val_acc available, skipping.\n",
            "33/86 [==========>...................] - ETA: 1:35 - loss: 0.1758 - acc: 0.9395WARNING:tensorflow:Can save best model only with val_acc available, skipping.\n",
            "34/86 [==========>...................] - ETA: 1:33 - loss: 0.1761 - acc: 0.9393WARNING:tensorflow:Can save best model only with val_acc available, skipping.\n",
            "35/86 [===========>..................] - ETA: 1:32 - loss: 0.1742 - acc: 0.9402WARNING:tensorflow:Can save best model only with val_acc available, skipping.\n",
            "36/86 [===========>..................] - ETA: 1:30 - loss: 0.1731 - acc: 0.9403WARNING:tensorflow:Can save best model only with val_acc available, skipping.\n",
            "37/86 [===========>..................] - ETA: 1:28 - loss: 0.1740 - acc: 0.9398WARNING:tensorflow:Can save best model only with val_acc available, skipping.\n",
            "38/86 [============>.................] - ETA: 1:27 - loss: 0.1741 - acc: 0.9399WARNING:tensorflow:Can save best model only with val_acc available, skipping.\n",
            "39/86 [============>.................] - ETA: 1:25 - loss: 0.1730 - acc: 0.9405WARNING:tensorflow:Can save best model only with val_acc available, skipping.\n",
            "40/86 [============>.................] - ETA: 1:23 - loss: 0.1743 - acc: 0.9399WARNING:tensorflow:Can save best model only with val_acc available, skipping.\n",
            "41/86 [=============>................] - ETA: 1:21 - loss: 0.1737 - acc: 0.9400WARNING:tensorflow:Can save best model only with val_acc available, skipping.\n",
            "42/86 [=============>................] - ETA: 1:19 - loss: 0.1731 - acc: 0.9401WARNING:tensorflow:Can save best model only with val_acc available, skipping.\n",
            "43/86 [==============>...............] - ETA: 1:17 - loss: 0.1721 - acc: 0.9404WARNING:tensorflow:Can save best model only with val_acc available, skipping.\n",
            "44/86 [==============>...............] - ETA: 1:16 - loss: 0.1716 - acc: 0.9406WARNING:tensorflow:Can save best model only with val_acc available, skipping.\n",
            "45/86 [==============>...............] - ETA: 1:14 - loss: 0.1722 - acc: 0.9402WARNING:tensorflow:Can save best model only with val_acc available, skipping.\n",
            "46/86 [===============>..............] - ETA: 1:12 - loss: 0.1722 - acc: 0.9403WARNING:tensorflow:Can save best model only with val_acc available, skipping.\n",
            "47/86 [===============>..............] - ETA: 1:10 - loss: 0.1709 - acc: 0.9407WARNING:tensorflow:Can save best model only with val_acc available, skipping.\n",
            "48/86 [===============>..............] - ETA: 1:08 - loss: 0.1701 - acc: 0.9412WARNING:tensorflow:Can save best model only with val_acc available, skipping.\n",
            "49/86 [================>.............] - ETA: 1:06 - loss: 0.1700 - acc: 0.9412WARNING:tensorflow:Can save best model only with val_acc available, skipping.\n",
            "50/86 [================>.............] - ETA: 1:05 - loss: 0.1685 - acc: 0.9417WARNING:tensorflow:Can save best model only with val_acc available, skipping.\n",
            "51/86 [================>.............] - ETA: 1:03 - loss: 0.1682 - acc: 0.9419WARNING:tensorflow:Can save best model only with val_acc available, skipping.\n",
            "52/86 [=================>............] - ETA: 1:01 - loss: 0.1670 - acc: 0.9425WARNING:tensorflow:Can save best model only with val_acc available, skipping.\n",
            "53/86 [=================>............] - ETA: 59s - loss: 0.1666 - acc: 0.9430 WARNING:tensorflow:Can save best model only with val_acc available, skipping.\n",
            "54/86 [=================>............] - ETA: 57s - loss: 0.1671 - acc: 0.9428WARNING:tensorflow:Can save best model only with val_acc available, skipping.\n",
            "55/86 [==================>...........] - ETA: 56s - loss: 0.1683 - acc: 0.9422WARNING:tensorflow:Can save best model only with val_acc available, skipping.\n",
            "56/86 [==================>...........] - ETA: 54s - loss: 0.1674 - acc: 0.9426WARNING:tensorflow:Can save best model only with val_acc available, skipping.\n",
            "57/86 [==================>...........] - ETA: 52s - loss: 0.1670 - acc: 0.9428WARNING:tensorflow:Can save best model only with val_acc available, skipping.\n",
            "58/86 [===================>..........] - ETA: 49s - loss: 0.1668 - acc: 0.9428WARNING:tensorflow:Can save best model only with val_acc available, skipping.\n",
            "59/86 [===================>..........] - ETA: 48s - loss: 0.1677 - acc: 0.9425WARNING:tensorflow:Can save best model only with val_acc available, skipping.\n",
            "60/86 [===================>..........] - ETA: 46s - loss: 0.1682 - acc: 0.9423WARNING:tensorflow:Can save best model only with val_acc available, skipping.\n",
            "61/86 [====================>.........] - ETA: 44s - loss: 0.1684 - acc: 0.9421WARNING:tensorflow:Can save best model only with val_acc available, skipping.\n",
            "62/86 [====================>.........] - ETA: 42s - loss: 0.1685 - acc: 0.9422WARNING:tensorflow:Can save best model only with val_acc available, skipping.\n",
            "63/86 [====================>.........] - ETA: 41s - loss: 0.1692 - acc: 0.9422WARNING:tensorflow:Can save best model only with val_acc available, skipping.\n",
            "64/86 [=====================>........] - ETA: 39s - loss: 0.1691 - acc: 0.9421WARNING:tensorflow:Can save best model only with val_acc available, skipping.\n",
            "65/86 [=====================>........] - ETA: 37s - loss: 0.1685 - acc: 0.9423WARNING:tensorflow:Can save best model only with val_acc available, skipping.\n",
            "66/86 [======================>.......] - ETA: 35s - loss: 0.1685 - acc: 0.9423WARNING:tensorflow:Can save best model only with val_acc available, skipping.\n",
            "67/86 [======================>.......] - ETA: 33s - loss: 0.1694 - acc: 0.9416WARNING:tensorflow:Can save best model only with val_acc available, skipping.\n",
            "68/86 [======================>.......] - ETA: 32s - loss: 0.1696 - acc: 0.9417WARNING:tensorflow:Can save best model only with val_acc available, skipping.\n",
            "69/86 [=======================>......] - ETA: 30s - loss: 0.1703 - acc: 0.9416WARNING:tensorflow:Can save best model only with val_acc available, skipping.\n",
            "70/86 [=======================>......] - ETA: 28s - loss: 0.1697 - acc: 0.9420WARNING:tensorflow:Can save best model only with val_acc available, skipping.\n",
            "71/86 [=======================>......] - ETA: 26s - loss: 0.1696 - acc: 0.9421WARNING:tensorflow:Can save best model only with val_acc available, skipping.\n",
            "72/86 [========================>.....] - ETA: 24s - loss: 0.1715 - acc: 0.9419WARNING:tensorflow:Can save best model only with val_acc available, skipping.\n",
            "73/86 [========================>.....] - ETA: 23s - loss: 0.1720 - acc: 0.9415WARNING:tensorflow:Can save best model only with val_acc available, skipping.\n",
            "74/86 [========================>.....] - ETA: 21s - loss: 0.1718 - acc: 0.9417WARNING:tensorflow:Can save best model only with val_acc available, skipping.\n",
            "75/86 [=========================>....] - ETA: 19s - loss: 0.1730 - acc: 0.9417WARNING:tensorflow:Can save best model only with val_acc available, skipping.\n",
            "76/86 [=========================>....] - ETA: 17s - loss: 0.1740 - acc: 0.9413WARNING:tensorflow:Can save best model only with val_acc available, skipping.\n",
            "77/86 [=========================>....] - ETA: 16s - loss: 0.1733 - acc: 0.9417WARNING:tensorflow:Can save best model only with val_acc available, skipping.\n",
            "78/86 [==========================>...] - ETA: 14s - loss: 0.1739 - acc: 0.9413WARNING:tensorflow:Can save best model only with val_acc available, skipping.\n",
            "79/86 [==========================>...] - ETA: 12s - loss: 0.1748 - acc: 0.9409WARNING:tensorflow:Can save best model only with val_acc available, skipping.\n",
            "80/86 [==========================>...] - ETA: 10s - loss: 0.1758 - acc: 0.9404WARNING:tensorflow:Can save best model only with val_acc available, skipping.\n",
            "81/86 [===========================>..] - ETA: 8s - loss: 0.1765 - acc: 0.9400 WARNING:tensorflow:Can save best model only with val_acc available, skipping.\n",
            "82/86 [===========================>..] - ETA: 7s - loss: 0.1769 - acc: 0.9397WARNING:tensorflow:Can save best model only with val_acc available, skipping.\n",
            "83/86 [===========================>..] - ETA: 5s - loss: 0.1767 - acc: 0.9396WARNING:tensorflow:Can save best model only with val_acc available, skipping.\n",
            "84/86 [============================>.] - ETA: 3s - loss: 0.1767 - acc: 0.9396WARNING:tensorflow:Can save best model only with val_acc available, skipping.\n",
            "85/86 [============================>.] - ETA: 1s - loss: 0.1760 - acc: 0.9399WARNING:tensorflow:Can save best model only with val_acc available, skipping.\n",
            "86/86 [==============================] - 192s 2s/step - loss: 0.1763 - acc: 0.9397 - val_loss: 0.2143 - val_acc: 0.9241\n",
            "Epoch 8/10\n",
            "WARNING:tensorflow:Can save best model only with val_acc available, skipping.\n",
            " 1/86 [..............................] - ETA: 2:52 - loss: 0.1270 - acc: 0.9609WARNING:tensorflow:Can save best model only with val_acc available, skipping.\n",
            " 2/86 [..............................] - ETA: 2:30 - loss: 0.1391 - acc: 0.9590WARNING:tensorflow:Can save best model only with val_acc available, skipping.\n",
            " 3/86 [>.............................] - ETA: 2:28 - loss: 0.1402 - acc: 0.9583WARNING:tensorflow:Can save best model only with val_acc available, skipping.\n",
            " 4/86 [>.............................] - ETA: 1:41 - loss: 0.1426 - acc: 0.9550WARNING:tensorflow:Can save best model only with val_acc available, skipping.\n",
            " 5/86 [>.............................] - ETA: 1:54 - loss: 0.1537 - acc: 0.9489WARNING:tensorflow:Can save best model only with val_acc available, skipping.\n",
            " 6/86 [=>............................] - ETA: 1:58 - loss: 0.1699 - acc: 0.9436WARNING:tensorflow:Can save best model only with val_acc available, skipping.\n",
            " 7/86 [=>............................] - ETA: 2:01 - loss: 0.1803 - acc: 0.9407WARNING:tensorflow:Can save best model only with val_acc available, skipping.\n",
            " 8/86 [=>............................] - ETA: 2:03 - loss: 0.1837 - acc: 0.9402WARNING:tensorflow:Can save best model only with val_acc available, skipping.\n",
            " 9/86 [==>...........................] - ETA: 2:03 - loss: 0.1819 - acc: 0.9389WARNING:tensorflow:Can save best model only with val_acc available, skipping.\n",
            "10/86 [==>...........................] - ETA: 2:03 - loss: 0.1771 - acc: 0.9414WARNING:tensorflow:Can save best model only with val_acc available, skipping.\n",
            "11/86 [==>...........................] - ETA: 2:03 - loss: 0.1864 - acc: 0.9394WARNING:tensorflow:Can save best model only with val_acc available, skipping.\n",
            "12/86 [===>..........................] - ETA: 2:02 - loss: 0.1874 - acc: 0.9396WARNING:tensorflow:Can save best model only with val_acc available, skipping.\n",
            "13/86 [===>..........................] - ETA: 2:01 - loss: 0.1887 - acc: 0.9378WARNING:tensorflow:Can save best model only with val_acc available, skipping.\n",
            "14/86 [===>..........................] - ETA: 2:00 - loss: 0.1889 - acc: 0.9372WARNING:tensorflow:Can save best model only with val_acc available, skipping.\n",
            "15/86 [====>.........................] - ETA: 1:59 - loss: 0.1956 - acc: 0.9356WARNING:tensorflow:Can save best model only with val_acc available, skipping.\n",
            "16/86 [====>.........................] - ETA: 1:58 - loss: 0.1953 - acc: 0.9344WARNING:tensorflow:Can save best model only with val_acc available, skipping.\n",
            "17/86 [====>.........................] - ETA: 1:57 - loss: 0.1950 - acc: 0.9346WARNING:tensorflow:Can save best model only with val_acc available, skipping.\n",
            "18/86 [=====>........................] - ETA: 1:55 - loss: 0.1931 - acc: 0.9354WARNING:tensorflow:Can save best model only with val_acc available, skipping.\n",
            "19/86 [=====>........................] - ETA: 1:54 - loss: 0.1902 - acc: 0.9358WARNING:tensorflow:Can save best model only with val_acc available, skipping.\n",
            "20/86 [=====>........................] - ETA: 1:53 - loss: 0.1901 - acc: 0.9348WARNING:tensorflow:Can save best model only with val_acc available, skipping.\n",
            "21/86 [======>.......................] - ETA: 1:51 - loss: 0.1901 - acc: 0.9346WARNING:tensorflow:Can save best model only with val_acc available, skipping.\n",
            "22/86 [======>.......................] - ETA: 1:50 - loss: 0.1883 - acc: 0.9355WARNING:tensorflow:Can save best model only with val_acc available, skipping.\n",
            "23/86 [=======>......................] - ETA: 1:48 - loss: 0.1889 - acc: 0.9350WARNING:tensorflow:Can save best model only with val_acc available, skipping.\n",
            "24/86 [=======>......................] - ETA: 1:47 - loss: 0.1876 - acc: 0.9350WARNING:tensorflow:Can save best model only with val_acc available, skipping.\n",
            "25/86 [=======>......................] - ETA: 1:45 - loss: 0.1886 - acc: 0.9347WARNING:tensorflow:Can save best model only with val_acc available, skipping.\n",
            "26/86 [========>.....................] - ETA: 1:43 - loss: 0.1863 - acc: 0.9355WARNING:tensorflow:Can save best model only with val_acc available, skipping.\n",
            "27/86 [========>.....................] - ETA: 1:42 - loss: 0.1839 - acc: 0.9363WARNING:tensorflow:Can save best model only with val_acc available, skipping.\n",
            "28/86 [========>.....................] - ETA: 1:41 - loss: 0.1843 - acc: 0.9359WARNING:tensorflow:Can save best model only with val_acc available, skipping.\n",
            "29/86 [=========>....................] - ETA: 1:41 - loss: 0.1847 - acc: 0.9362WARNING:tensorflow:Can save best model only with val_acc available, skipping.\n",
            "30/86 [=========>....................] - ETA: 1:39 - loss: 0.1858 - acc: 0.9360WARNING:tensorflow:Can save best model only with val_acc available, skipping.\n",
            "31/86 [=========>....................] - ETA: 1:38 - loss: 0.1861 - acc: 0.9357WARNING:tensorflow:Can save best model only with val_acc available, skipping.\n",
            "32/86 [==========>...................] - ETA: 1:36 - loss: 0.1856 - acc: 0.9360WARNING:tensorflow:Can save best model only with val_acc available, skipping.\n",
            "33/86 [==========>...................] - ETA: 1:34 - loss: 0.1870 - acc: 0.9356WARNING:tensorflow:Can save best model only with val_acc available, skipping.\n",
            "34/86 [==========>...................] - ETA: 1:32 - loss: 0.1879 - acc: 0.9355WARNING:tensorflow:Can save best model only with val_acc available, skipping.\n",
            "35/86 [===========>..................] - ETA: 1:31 - loss: 0.1882 - acc: 0.9352WARNING:tensorflow:Can save best model only with val_acc available, skipping.\n",
            "36/86 [===========>..................] - ETA: 1:29 - loss: 0.1866 - acc: 0.9359WARNING:tensorflow:Can save best model only with val_acc available, skipping.\n",
            "37/86 [===========>..................] - ETA: 1:27 - loss: 0.1851 - acc: 0.9365WARNING:tensorflow:Can save best model only with val_acc available, skipping.\n",
            "38/86 [============>.................] - ETA: 1:25 - loss: 0.1845 - acc: 0.9363WARNING:tensorflow:Can save best model only with val_acc available, skipping.\n",
            "39/86 [============>.................] - ETA: 1:24 - loss: 0.1846 - acc: 0.9362WARNING:tensorflow:Can save best model only with val_acc available, skipping.\n",
            "40/86 [============>.................] - ETA: 1:22 - loss: 0.1848 - acc: 0.9358WARNING:tensorflow:Can save best model only with val_acc available, skipping.\n",
            "41/86 [=============>................] - ETA: 1:20 - loss: 0.1846 - acc: 0.9357WARNING:tensorflow:Can save best model only with val_acc available, skipping.\n",
            "42/86 [=============>................] - ETA: 1:18 - loss: 0.1847 - acc: 0.9355WARNING:tensorflow:Can save best model only with val_acc available, skipping.\n",
            "43/86 [==============>...............] - ETA: 1:16 - loss: 0.1839 - acc: 0.9359WARNING:tensorflow:Can save best model only with val_acc available, skipping.\n",
            "44/86 [==============>...............] - ETA: 1:15 - loss: 0.1847 - acc: 0.9357WARNING:tensorflow:Can save best model only with val_acc available, skipping.\n",
            "45/86 [==============>...............] - ETA: 1:13 - loss: 0.1835 - acc: 0.9361WARNING:tensorflow:Can save best model only with val_acc available, skipping.\n",
            "46/86 [===============>..............] - ETA: 1:11 - loss: 0.1834 - acc: 0.9361WARNING:tensorflow:Can save best model only with val_acc available, skipping.\n",
            "47/86 [===============>..............] - ETA: 1:09 - loss: 0.1822 - acc: 0.9367WARNING:tensorflow:Can save best model only with val_acc available, skipping.\n",
            "48/86 [===============>..............] - ETA: 1:08 - loss: 0.1823 - acc: 0.9363WARNING:tensorflow:Can save best model only with val_acc available, skipping.\n",
            "49/86 [================>.............] - ETA: 1:06 - loss: 0.1817 - acc: 0.9367WARNING:tensorflow:Can save best model only with val_acc available, skipping.\n",
            "50/86 [================>.............] - ETA: 1:04 - loss: 0.1808 - acc: 0.9370WARNING:tensorflow:Can save best model only with val_acc available, skipping.\n",
            "51/86 [================>.............] - ETA: 1:02 - loss: 0.1827 - acc: 0.9373WARNING:tensorflow:Can save best model only with val_acc available, skipping.\n",
            "52/86 [=================>............] - ETA: 1:00 - loss: 0.1834 - acc: 0.9370WARNING:tensorflow:Can save best model only with val_acc available, skipping.\n",
            "53/86 [=================>............] - ETA: 59s - loss: 0.1840 - acc: 0.9374 WARNING:tensorflow:Can save best model only with val_acc available, skipping.\n",
            "54/86 [=================>............] - ETA: 57s - loss: 0.1825 - acc: 0.9379WARNING:tensorflow:Can save best model only with val_acc available, skipping.\n",
            "55/86 [==================>...........] - ETA: 55s - loss: 0.1818 - acc: 0.9386WARNING:tensorflow:Can save best model only with val_acc available, skipping.\n",
            "56/86 [==================>...........] - ETA: 53s - loss: 0.1809 - acc: 0.9389WARNING:tensorflow:Can save best model only with val_acc available, skipping.\n",
            "57/86 [==================>...........] - ETA: 51s - loss: 0.1806 - acc: 0.9390WARNING:tensorflow:Can save best model only with val_acc available, skipping.\n",
            "58/86 [===================>..........] - ETA: 50s - loss: 0.1804 - acc: 0.9389WARNING:tensorflow:Can save best model only with val_acc available, skipping.\n",
            "59/86 [===================>..........] - ETA: 48s - loss: 0.1807 - acc: 0.9386WARNING:tensorflow:Can save best model only with val_acc available, skipping.\n",
            "60/86 [===================>..........] - ETA: 46s - loss: 0.1800 - acc: 0.9389WARNING:tensorflow:Can save best model only with val_acc available, skipping.\n",
            "61/86 [====================>.........] - ETA: 44s - loss: 0.1806 - acc: 0.9385WARNING:tensorflow:Can save best model only with val_acc available, skipping.\n",
            "62/86 [====================>.........] - ETA: 42s - loss: 0.1803 - acc: 0.9381WARNING:tensorflow:Can save best model only with val_acc available, skipping.\n",
            "63/86 [====================>.........] - ETA: 41s - loss: 0.1807 - acc: 0.9380WARNING:tensorflow:Can save best model only with val_acc available, skipping.\n",
            "64/86 [=====================>........] - ETA: 39s - loss: 0.1817 - acc: 0.9378WARNING:tensorflow:Can save best model only with val_acc available, skipping.\n",
            "65/86 [=====================>........] - ETA: 37s - loss: 0.1816 - acc: 0.9378WARNING:tensorflow:Can save best model only with val_acc available, skipping.\n",
            "66/86 [======================>.......] - ETA: 35s - loss: 0.1813 - acc: 0.9382WARNING:tensorflow:Can save best model only with val_acc available, skipping.\n",
            "67/86 [======================>.......] - ETA: 34s - loss: 0.1813 - acc: 0.9382WARNING:tensorflow:Can save best model only with val_acc available, skipping.\n",
            "68/86 [======================>.......] - ETA: 32s - loss: 0.1817 - acc: 0.9383WARNING:tensorflow:Can save best model only with val_acc available, skipping.\n",
            "69/86 [=======================>......] - ETA: 30s - loss: 0.1808 - acc: 0.9389WARNING:tensorflow:Can save best model only with val_acc available, skipping.\n",
            "70/86 [=======================>......] - ETA: 28s - loss: 0.1804 - acc: 0.9391WARNING:tensorflow:Can save best model only with val_acc available, skipping.\n",
            "71/86 [=======================>......] - ETA: 26s - loss: 0.1802 - acc: 0.9390WARNING:tensorflow:Can save best model only with val_acc available, skipping.\n",
            "72/86 [========================>.....] - ETA: 25s - loss: 0.1797 - acc: 0.9392WARNING:tensorflow:Can save best model only with val_acc available, skipping.\n",
            "73/86 [========================>.....] - ETA: 23s - loss: 0.1797 - acc: 0.9391WARNING:tensorflow:Can save best model only with val_acc available, skipping.\n",
            "74/86 [========================>.....] - ETA: 21s - loss: 0.1797 - acc: 0.9392WARNING:tensorflow:Can save best model only with val_acc available, skipping.\n",
            "75/86 [=========================>....] - ETA: 19s - loss: 0.1792 - acc: 0.9394WARNING:tensorflow:Can save best model only with val_acc available, skipping.\n",
            "76/86 [=========================>....] - ETA: 17s - loss: 0.1793 - acc: 0.9394WARNING:tensorflow:Can save best model only with val_acc available, skipping.\n",
            "77/86 [=========================>....] - ETA: 16s - loss: 0.1794 - acc: 0.9393WARNING:tensorflow:Can save best model only with val_acc available, skipping.\n",
            "78/86 [==========================>...] - ETA: 14s - loss: 0.1792 - acc: 0.9395WARNING:tensorflow:Can save best model only with val_acc available, skipping.\n",
            "79/86 [==========================>...] - ETA: 12s - loss: 0.1791 - acc: 0.9395WARNING:tensorflow:Can save best model only with val_acc available, skipping.\n",
            "80/86 [==========================>...] - ETA: 10s - loss: 0.1788 - acc: 0.9395WARNING:tensorflow:Can save best model only with val_acc available, skipping.\n",
            "81/86 [===========================>..] - ETA: 8s - loss: 0.1788 - acc: 0.9396 WARNING:tensorflow:Can save best model only with val_acc available, skipping.\n",
            "82/86 [===========================>..] - ETA: 7s - loss: 0.1784 - acc: 0.9398WARNING:tensorflow:Can save best model only with val_acc available, skipping.\n",
            "83/86 [===========================>..] - ETA: 5s - loss: 0.1783 - acc: 0.9399WARNING:tensorflow:Can save best model only with val_acc available, skipping.\n",
            "84/86 [============================>.] - ETA: 3s - loss: 0.1780 - acc: 0.9399WARNING:tensorflow:Can save best model only with val_acc available, skipping.\n",
            "85/86 [============================>.] - ETA: 1s - loss: 0.1773 - acc: 0.9402WARNING:tensorflow:Can save best model only with val_acc available, skipping.\n",
            "86/86 [==============================] - 194s 2s/step - loss: 0.1777 - acc: 0.9402 - val_loss: 0.1944 - val_acc: 0.9282\n",
            "Epoch 9/10\n",
            "WARNING:tensorflow:Can save best model only with val_acc available, skipping.\n",
            " 1/86 [..............................] - ETA: 2:50 - loss: 0.1353 - acc: 0.9492WARNING:tensorflow:Can save best model only with val_acc available, skipping.\n",
            " 2/86 [..............................] - ETA: 2:27 - loss: 0.1296 - acc: 0.9531WARNING:tensorflow:Can save best model only with val_acc available, skipping.\n",
            " 3/86 [>.............................] - ETA: 2:28 - loss: 0.1184 - acc: 0.9583WARNING:tensorflow:Can save best model only with val_acc available, skipping.\n",
            " 4/86 [>.............................] - ETA: 2:25 - loss: 0.1392 - acc: 0.9521WARNING:tensorflow:Can save best model only with val_acc available, skipping.\n",
            " 5/86 [>.............................] - ETA: 2:24 - loss: 0.1428 - acc: 0.9500WARNING:tensorflow:Can save best model only with val_acc available, skipping.\n",
            " 6/86 [=>............................] - ETA: 2:23 - loss: 0.1482 - acc: 0.9466WARNING:tensorflow:Can save best model only with val_acc available, skipping.\n",
            " 7/86 [=>............................] - ETA: 2:21 - loss: 0.1483 - acc: 0.9459WARNING:tensorflow:Can save best model only with val_acc available, skipping.\n",
            " 8/86 [=>............................] - ETA: 2:19 - loss: 0.1526 - acc: 0.9443WARNING:tensorflow:Can save best model only with val_acc available, skipping.\n",
            " 9/86 [==>...........................] - ETA: 2:17 - loss: 0.1501 - acc: 0.9453WARNING:tensorflow:Can save best model only with val_acc available, skipping.\n",
            "10/86 [==>...........................] - ETA: 2:15 - loss: 0.1523 - acc: 0.9445WARNING:tensorflow:Can save best model only with val_acc available, skipping.\n",
            "11/86 [==>...........................] - ETA: 2:14 - loss: 0.1617 - acc: 0.9414WARNING:tensorflow:Can save best model only with val_acc available, skipping.\n",
            "12/86 [===>..........................] - ETA: 2:12 - loss: 0.1583 - acc: 0.9424WARNING:tensorflow:Can save best model only with val_acc available, skipping.\n",
            "13/86 [===>..........................] - ETA: 2:10 - loss: 0.1576 - acc: 0.9435WARNING:tensorflow:Can save best model only with val_acc available, skipping.\n",
            "14/86 [===>..........................] - ETA: 2:08 - loss: 0.1607 - acc: 0.9448WARNING:tensorflow:Can save best model only with val_acc available, skipping.\n",
            "15/86 [====>.........................] - ETA: 2:07 - loss: 0.1632 - acc: 0.9438WARNING:tensorflow:Can save best model only with val_acc available, skipping.\n",
            "16/86 [====>.........................] - ETA: 2:05 - loss: 0.1608 - acc: 0.9453WARNING:tensorflow:Can save best model only with val_acc available, skipping.\n",
            "17/86 [====>.........................] - ETA: 2:03 - loss: 0.1621 - acc: 0.9446WARNING:tensorflow:Can save best model only with val_acc available, skipping.\n",
            "18/86 [=====>........................] - ETA: 2:01 - loss: 0.1644 - acc: 0.9449WARNING:tensorflow:Can save best model only with val_acc available, skipping.\n",
            "19/86 [=====>........................] - ETA: 2:00 - loss: 0.1630 - acc: 0.9447WARNING:tensorflow:Can save best model only with val_acc available, skipping.\n",
            "20/86 [=====>........................] - ETA: 1:58 - loss: 0.1636 - acc: 0.9443WARNING:tensorflow:Can save best model only with val_acc available, skipping.\n",
            "21/86 [======>.......................] - ETA: 1:56 - loss: 0.1645 - acc: 0.9435WARNING:tensorflow:Can save best model only with val_acc available, skipping.\n",
            "22/86 [======>.......................] - ETA: 1:54 - loss: 0.1623 - acc: 0.9446WARNING:tensorflow:Can save best model only with val_acc available, skipping.\n",
            "23/86 [=======>......................] - ETA: 1:53 - loss: 0.1629 - acc: 0.9450WARNING:tensorflow:Can save best model only with val_acc available, skipping.\n",
            "24/86 [=======>......................] - ETA: 1:46 - loss: 0.1630 - acc: 0.9448WARNING:tensorflow:Can save best model only with val_acc available, skipping.\n",
            "25/86 [=======>......................] - ETA: 1:45 - loss: 0.1668 - acc: 0.9437WARNING:tensorflow:Can save best model only with val_acc available, skipping.\n",
            "26/86 [========>.....................] - ETA: 1:44 - loss: 0.1678 - acc: 0.9426WARNING:tensorflow:Can save best model only with val_acc available, skipping.\n",
            "27/86 [========>.....................] - ETA: 1:42 - loss: 0.1690 - acc: 0.9423WARNING:tensorflow:Can save best model only with val_acc available, skipping.\n",
            "28/86 [========>.....................] - ETA: 1:40 - loss: 0.1712 - acc: 0.9414WARNING:tensorflow:Can save best model only with val_acc available, skipping.\n",
            "29/86 [=========>....................] - ETA: 1:39 - loss: 0.1723 - acc: 0.9404WARNING:tensorflow:Can save best model only with val_acc available, skipping.\n",
            "30/86 [=========>....................] - ETA: 1:37 - loss: 0.1718 - acc: 0.9409WARNING:tensorflow:Can save best model only with val_acc available, skipping.\n",
            "31/86 [=========>....................] - ETA: 1:35 - loss: 0.1727 - acc: 0.9407WARNING:tensorflow:Can save best model only with val_acc available, skipping.\n",
            "32/86 [==========>...................] - ETA: 1:34 - loss: 0.1731 - acc: 0.9404WARNING:tensorflow:Can save best model only with val_acc available, skipping.\n",
            "33/86 [==========>...................] - ETA: 1:32 - loss: 0.1735 - acc: 0.9402WARNING:tensorflow:Can save best model only with val_acc available, skipping.\n",
            "34/86 [==========>...................] - ETA: 1:30 - loss: 0.1722 - acc: 0.9404WARNING:tensorflow:Can save best model only with val_acc available, skipping.\n",
            "35/86 [===========>..................] - ETA: 1:29 - loss: 0.1723 - acc: 0.9399WARNING:tensorflow:Can save best model only with val_acc available, skipping.\n",
            "36/86 [===========>..................] - ETA: 1:27 - loss: 0.1720 - acc: 0.9396WARNING:tensorflow:Can save best model only with val_acc available, skipping.\n",
            "37/86 [===========>..................] - ETA: 1:25 - loss: 0.1706 - acc: 0.9401WARNING:tensorflow:Can save best model only with val_acc available, skipping.\n",
            "38/86 [============>.................] - ETA: 1:24 - loss: 0.1689 - acc: 0.9406WARNING:tensorflow:Can save best model only with val_acc available, skipping.\n",
            "39/86 [============>.................] - ETA: 1:22 - loss: 0.1702 - acc: 0.9401WARNING:tensorflow:Can save best model only with val_acc available, skipping.\n",
            "40/86 [============>.................] - ETA: 1:20 - loss: 0.1704 - acc: 0.9403WARNING:tensorflow:Can save best model only with val_acc available, skipping.\n",
            "41/86 [=============>................] - ETA: 1:19 - loss: 0.1690 - acc: 0.9407WARNING:tensorflow:Can save best model only with val_acc available, skipping.\n",
            "42/86 [=============>................] - ETA: 1:17 - loss: 0.1690 - acc: 0.9411WARNING:tensorflow:Can save best model only with val_acc available, skipping.\n",
            "43/86 [==============>...............] - ETA: 1:15 - loss: 0.1685 - acc: 0.9412WARNING:tensorflow:Can save best model only with val_acc available, skipping.\n",
            "44/86 [==============>...............] - ETA: 1:13 - loss: 0.1689 - acc: 0.9408WARNING:tensorflow:Can save best model only with val_acc available, skipping.\n",
            "45/86 [==============>...............] - ETA: 1:12 - loss: 0.1687 - acc: 0.9407WARNING:tensorflow:Can save best model only with val_acc available, skipping.\n",
            "46/86 [===============>..............] - ETA: 1:10 - loss: 0.1697 - acc: 0.9407WARNING:tensorflow:Can save best model only with val_acc available, skipping.\n",
            "47/86 [===============>..............] - ETA: 1:08 - loss: 0.1697 - acc: 0.9406WARNING:tensorflow:Can save best model only with val_acc available, skipping.\n",
            "48/86 [===============>..............] - ETA: 1:06 - loss: 0.1690 - acc: 0.9408WARNING:tensorflow:Can save best model only with val_acc available, skipping.\n",
            "49/86 [================>.............] - ETA: 1:05 - loss: 0.1691 - acc: 0.9409WARNING:tensorflow:Can save best model only with val_acc available, skipping.\n",
            "50/86 [================>.............] - ETA: 1:03 - loss: 0.1691 - acc: 0.9408WARNING:tensorflow:Can save best model only with val_acc available, skipping.\n",
            "51/86 [================>.............] - ETA: 1:01 - loss: 0.1680 - acc: 0.9414WARNING:tensorflow:Can save best model only with val_acc available, skipping.\n",
            "52/86 [=================>............] - ETA: 59s - loss: 0.1688 - acc: 0.9409 WARNING:tensorflow:Can save best model only with val_acc available, skipping.\n",
            "53/86 [=================>............] - ETA: 58s - loss: 0.1693 - acc: 0.9411WARNING:tensorflow:Can save best model only with val_acc available, skipping.\n",
            "54/86 [=================>............] - ETA: 56s - loss: 0.1702 - acc: 0.9408WARNING:tensorflow:Can save best model only with val_acc available, skipping.\n",
            "55/86 [==================>...........] - ETA: 54s - loss: 0.1711 - acc: 0.9407WARNING:tensorflow:Can save best model only with val_acc available, skipping.\n",
            "56/86 [==================>...........] - ETA: 52s - loss: 0.1718 - acc: 0.9402WARNING:tensorflow:Can save best model only with val_acc available, skipping.\n",
            "57/86 [==================>...........] - ETA: 51s - loss: 0.1724 - acc: 0.9396WARNING:tensorflow:Can save best model only with val_acc available, skipping.\n",
            "58/86 [===================>..........] - ETA: 49s - loss: 0.1717 - acc: 0.9399WARNING:tensorflow:Can save best model only with val_acc available, skipping.\n",
            "59/86 [===================>..........] - ETA: 47s - loss: 0.1713 - acc: 0.9399WARNING:tensorflow:Can save best model only with val_acc available, skipping.\n",
            "60/86 [===================>..........] - ETA: 46s - loss: 0.1720 - acc: 0.9397WARNING:tensorflow:Can save best model only with val_acc available, skipping.\n",
            "61/86 [====================>.........] - ETA: 44s - loss: 0.1715 - acc: 0.9398WARNING:tensorflow:Can save best model only with val_acc available, skipping.\n",
            "62/86 [====================>.........] - ETA: 42s - loss: 0.1708 - acc: 0.9400WARNING:tensorflow:Can save best model only with val_acc available, skipping.\n",
            "63/86 [====================>.........] - ETA: 40s - loss: 0.1716 - acc: 0.9398WARNING:tensorflow:Can save best model only with val_acc available, skipping.\n",
            "64/86 [=====================>........] - ETA: 38s - loss: 0.1711 - acc: 0.9400WARNING:tensorflow:Can save best model only with val_acc available, skipping.\n",
            "65/86 [=====================>........] - ETA: 37s - loss: 0.1713 - acc: 0.9399WARNING:tensorflow:Can save best model only with val_acc available, skipping.\n",
            "66/86 [======================>.......] - ETA: 35s - loss: 0.1713 - acc: 0.9401WARNING:tensorflow:Can save best model only with val_acc available, skipping.\n",
            "67/86 [======================>.......] - ETA: 33s - loss: 0.1711 - acc: 0.9403WARNING:tensorflow:Can save best model only with val_acc available, skipping.\n",
            "68/86 [======================>.......] - ETA: 31s - loss: 0.1711 - acc: 0.9404WARNING:tensorflow:Can save best model only with val_acc available, skipping.\n",
            "69/86 [=======================>......] - ETA: 30s - loss: 0.1711 - acc: 0.9406WARNING:tensorflow:Can save best model only with val_acc available, skipping.\n",
            "70/86 [=======================>......] - ETA: 28s - loss: 0.1709 - acc: 0.9406WARNING:tensorflow:Can save best model only with val_acc available, skipping.\n",
            "71/86 [=======================>......] - ETA: 26s - loss: 0.1709 - acc: 0.9407WARNING:tensorflow:Can save best model only with val_acc available, skipping.\n",
            "72/86 [========================>.....] - ETA: 24s - loss: 0.1707 - acc: 0.9408WARNING:tensorflow:Can save best model only with val_acc available, skipping.\n",
            "73/86 [========================>.....] - ETA: 23s - loss: 0.1712 - acc: 0.9405WARNING:tensorflow:Can save best model only with val_acc available, skipping.\n",
            "74/86 [========================>.....] - ETA: 21s - loss: 0.1709 - acc: 0.9407WARNING:tensorflow:Can save best model only with val_acc available, skipping.\n",
            "75/86 [=========================>....] - ETA: 19s - loss: 0.1708 - acc: 0.9408WARNING:tensorflow:Can save best model only with val_acc available, skipping.\n",
            "76/86 [=========================>....] - ETA: 17s - loss: 0.1704 - acc: 0.9408WARNING:tensorflow:Can save best model only with val_acc available, skipping.\n",
            "77/86 [=========================>....] - ETA: 15s - loss: 0.1712 - acc: 0.9404WARNING:tensorflow:Can save best model only with val_acc available, skipping.\n",
            "78/86 [==========================>...] - ETA: 14s - loss: 0.1713 - acc: 0.9404WARNING:tensorflow:Can save best model only with val_acc available, skipping.\n",
            "79/86 [==========================>...] - ETA: 12s - loss: 0.1708 - acc: 0.9406WARNING:tensorflow:Can save best model only with val_acc available, skipping.\n",
            "80/86 [==========================>...] - ETA: 10s - loss: 0.1704 - acc: 0.9405WARNING:tensorflow:Can save best model only with val_acc available, skipping.\n",
            "81/86 [===========================>..] - ETA: 8s - loss: 0.1704 - acc: 0.9405 WARNING:tensorflow:Can save best model only with val_acc available, skipping.\n",
            "82/86 [===========================>..] - ETA: 7s - loss: 0.1708 - acc: 0.9404WARNING:tensorflow:Can save best model only with val_acc available, skipping.\n",
            "83/86 [===========================>..] - ETA: 5s - loss: 0.1707 - acc: 0.9405WARNING:tensorflow:Can save best model only with val_acc available, skipping.\n",
            "84/86 [============================>.] - ETA: 3s - loss: 0.1704 - acc: 0.9404WARNING:tensorflow:Can save best model only with val_acc available, skipping.\n",
            "85/86 [============================>.] - ETA: 1s - loss: 0.1708 - acc: 0.9403WARNING:tensorflow:Can save best model only with val_acc available, skipping.\n",
            "86/86 [==============================] - 193s 2s/step - loss: 0.1709 - acc: 0.9403 - val_loss: 0.2231 - val_acc: 0.9252\n",
            "Epoch 10/10\n",
            "WARNING:tensorflow:Can save best model only with val_acc available, skipping.\n",
            " 1/86 [..............................] - ETA: 2:50 - loss: 0.1904 - acc: 0.9219WARNING:tensorflow:Can save best model only with val_acc available, skipping.\n",
            " 2/86 [..............................] - ETA: 2:28 - loss: 0.2176 - acc: 0.9238WARNING:tensorflow:Can save best model only with val_acc available, skipping.\n",
            " 3/86 [>.............................] - ETA: 2:28 - loss: 0.2342 - acc: 0.9219WARNING:tensorflow:Can save best model only with val_acc available, skipping.\n",
            " 4/86 [>.............................] - ETA: 2:26 - loss: 0.2121 - acc: 0.9277WARNING:tensorflow:Can save best model only with val_acc available, skipping.\n",
            " 5/86 [>.............................] - ETA: 2:24 - loss: 0.1944 - acc: 0.9336WARNING:tensorflow:Can save best model only with val_acc available, skipping.\n",
            " 6/86 [=>............................] - ETA: 2:23 - loss: 0.1928 - acc: 0.9297WARNING:tensorflow:Can save best model only with val_acc available, skipping.\n",
            " 7/86 [=>............................] - ETA: 2:21 - loss: 0.1899 - acc: 0.9325WARNING:tensorflow:Can save best model only with val_acc available, skipping.\n",
            " 8/86 [=>............................] - ETA: 2:19 - loss: 0.1915 - acc: 0.9287WARNING:tensorflow:Can save best model only with val_acc available, skipping.\n",
            " 9/86 [==>...........................] - ETA: 2:17 - loss: 0.1904 - acc: 0.9288WARNING:tensorflow:Can save best model only with val_acc available, skipping.\n",
            "10/86 [==>...........................] - ETA: 2:15 - loss: 0.1892 - acc: 0.9289WARNING:tensorflow:Can save best model only with val_acc available, skipping.\n",
            "11/86 [==>...........................] - ETA: 2:13 - loss: 0.1886 - acc: 0.9297WARNING:tensorflow:Can save best model only with val_acc available, skipping.\n",
            "12/86 [===>..........................] - ETA: 2:12 - loss: 0.1851 - acc: 0.9303WARNING:tensorflow:Can save best model only with val_acc available, skipping.\n",
            "13/86 [===>..........................] - ETA: 2:10 - loss: 0.1852 - acc: 0.9300WARNING:tensorflow:Can save best model only with val_acc available, skipping.\n",
            "14/86 [===>..........................] - ETA: 2:09 - loss: 0.1861 - acc: 0.9300WARNING:tensorflow:Can save best model only with val_acc available, skipping.\n",
            "15/86 [====>.........................] - ETA: 2:07 - loss: 0.1843 - acc: 0.9297WARNING:tensorflow:Can save best model only with val_acc available, skipping.\n",
            "16/86 [====>.........................] - ETA: 2:05 - loss: 0.1865 - acc: 0.9280WARNING:tensorflow:Can save best model only with val_acc available, skipping.\n",
            "17/86 [====>.........................] - ETA: 2:03 - loss: 0.1852 - acc: 0.9290WARNING:tensorflow:Can save best model only with val_acc available, skipping.\n",
            "18/86 [=====>........................] - ETA: 2:02 - loss: 0.1854 - acc: 0.9301WARNING:tensorflow:Can save best model only with val_acc available, skipping.\n",
            "19/86 [=====>........................] - ETA: 2:00 - loss: 0.1838 - acc: 0.9309WARNING:tensorflow:Can save best model only with val_acc available, skipping.\n",
            "20/86 [=====>........................] - ETA: 1:58 - loss: 0.1822 - acc: 0.9316WARNING:tensorflow:Can save best model only with val_acc available, skipping.\n",
            "21/86 [======>.......................] - ETA: 1:56 - loss: 0.1781 - acc: 0.9338WARNING:tensorflow:Can save best model only with val_acc available, skipping.\n",
            "22/86 [======>.......................] - ETA: 1:55 - loss: 0.1756 - acc: 0.9348WARNING:tensorflow:Can save best model only with val_acc available, skipping.\n",
            "23/86 [=======>......................] - ETA: 1:53 - loss: 0.1742 - acc: 0.9350WARNING:tensorflow:Can save best model only with val_acc available, skipping.\n",
            "24/86 [=======>......................] - ETA: 1:51 - loss: 0.1721 - acc: 0.9357WARNING:tensorflow:Can save best model only with val_acc available, skipping.\n",
            "25/86 [=======>......................] - ETA: 1:45 - loss: 0.1715 - acc: 0.9360WARNING:tensorflow:Can save best model only with val_acc available, skipping.\n",
            "26/86 [========>.....................] - ETA: 1:44 - loss: 0.1740 - acc: 0.9358WARNING:tensorflow:Can save best model only with val_acc available, skipping.\n",
            "27/86 [========>.....................] - ETA: 1:42 - loss: 0.1744 - acc: 0.9362WARNING:tensorflow:Can save best model only with val_acc available, skipping.\n",
            "28/86 [========>.....................] - ETA: 1:41 - loss: 0.1732 - acc: 0.9365WARNING:tensorflow:Can save best model only with val_acc available, skipping.\n",
            "29/86 [=========>....................] - ETA: 1:39 - loss: 0.1733 - acc: 0.9365WARNING:tensorflow:Can save best model only with val_acc available, skipping.\n",
            "30/86 [=========>....................] - ETA: 1:37 - loss: 0.1731 - acc: 0.9367WARNING:tensorflow:Can save best model only with val_acc available, skipping.\n",
            "31/86 [=========>....................] - ETA: 1:36 - loss: 0.1729 - acc: 0.9369WARNING:tensorflow:Can save best model only with val_acc available, skipping.\n",
            "32/86 [==========>...................] - ETA: 1:34 - loss: 0.1728 - acc: 0.9369WARNING:tensorflow:Can save best model only with val_acc available, skipping.\n",
            "33/86 [==========>...................] - ETA: 1:32 - loss: 0.1724 - acc: 0.9368WARNING:tensorflow:Can save best model only with val_acc available, skipping.\n",
            "34/86 [==========>...................] - ETA: 1:31 - loss: 0.1738 - acc: 0.9363WARNING:tensorflow:Can save best model only with val_acc available, skipping.\n",
            "35/86 [===========>..................] - ETA: 1:29 - loss: 0.1731 - acc: 0.9367WARNING:tensorflow:Can save best model only with val_acc available, skipping.\n",
            "36/86 [===========>..................] - ETA: 1:27 - loss: 0.1742 - acc: 0.9366WARNING:tensorflow:Can save best model only with val_acc available, skipping.\n",
            "37/86 [===========>..................] - ETA: 1:26 - loss: 0.1741 - acc: 0.9370WARNING:tensorflow:Can save best model only with val_acc available, skipping.\n",
            "38/86 [============>.................] - ETA: 1:24 - loss: 0.1743 - acc: 0.9371WARNING:tensorflow:Can save best model only with val_acc available, skipping.\n",
            "39/86 [============>.................] - ETA: 1:22 - loss: 0.1735 - acc: 0.9377WARNING:tensorflow:Can save best model only with val_acc available, skipping.\n",
            "40/86 [============>.................] - ETA: 1:20 - loss: 0.1722 - acc: 0.9380WARNING:tensorflow:Can save best model only with val_acc available, skipping.\n",
            "41/86 [=============>................] - ETA: 1:19 - loss: 0.1728 - acc: 0.9375WARNING:tensorflow:Can save best model only with val_acc available, skipping.\n",
            "42/86 [=============>................] - ETA: 1:17 - loss: 0.1722 - acc: 0.9377WARNING:tensorflow:Can save best model only with val_acc available, skipping.\n",
            "43/86 [==============>...............] - ETA: 1:15 - loss: 0.1719 - acc: 0.9377WARNING:tensorflow:Can save best model only with val_acc available, skipping.\n",
            "44/86 [==============>...............] - ETA: 1:14 - loss: 0.1708 - acc: 0.9382WARNING:tensorflow:Can save best model only with val_acc available, skipping.\n",
            "45/86 [==============>...............] - ETA: 1:12 - loss: 0.1700 - acc: 0.9385WARNING:tensorflow:Can save best model only with val_acc available, skipping.\n",
            "46/86 [===============>..............] - ETA: 1:10 - loss: 0.1708 - acc: 0.9386WARNING:tensorflow:Can save best model only with val_acc available, skipping.\n",
            "47/86 [===============>..............] - ETA: 1:08 - loss: 0.1710 - acc: 0.9383WARNING:tensorflow:Can save best model only with val_acc available, skipping.\n",
            "48/86 [===============>..............] - ETA: 1:07 - loss: 0.1704 - acc: 0.9387WARNING:tensorflow:Can save best model only with val_acc available, skipping.\n",
            "49/86 [================>.............] - ETA: 1:05 - loss: 0.1695 - acc: 0.9392WARNING:tensorflow:Can save best model only with val_acc available, skipping.\n",
            "50/86 [================>.............] - ETA: 1:03 - loss: 0.1695 - acc: 0.9393WARNING:tensorflow:Can save best model only with val_acc available, skipping.\n",
            "51/86 [================>.............] - ETA: 1:01 - loss: 0.1694 - acc: 0.9394WARNING:tensorflow:Can save best model only with val_acc available, skipping.\n",
            "52/86 [=================>............] - ETA: 1:00 - loss: 0.1689 - acc: 0.9397WARNING:tensorflow:Can save best model only with val_acc available, skipping.\n",
            "53/86 [=================>............] - ETA: 58s - loss: 0.1687 - acc: 0.9396 WARNING:tensorflow:Can save best model only with val_acc available, skipping.\n",
            "54/86 [=================>............] - ETA: 56s - loss: 0.1681 - acc: 0.9398WARNING:tensorflow:Can save best model only with val_acc available, skipping.\n",
            "55/86 [==================>...........] - ETA: 54s - loss: 0.1675 - acc: 0.9398WARNING:tensorflow:Can save best model only with val_acc available, skipping.\n",
            "56/86 [==================>...........] - ETA: 53s - loss: 0.1667 - acc: 0.9401WARNING:tensorflow:Can save best model only with val_acc available, skipping.\n",
            "57/86 [==================>...........] - ETA: 51s - loss: 0.1686 - acc: 0.9399WARNING:tensorflow:Can save best model only with val_acc available, skipping.\n",
            "58/86 [===================>..........] - ETA: 49s - loss: 0.1687 - acc: 0.9402WARNING:tensorflow:Can save best model only with val_acc available, skipping.\n",
            "59/86 [===================>..........] - ETA: 48s - loss: 0.1692 - acc: 0.9399WARNING:tensorflow:Can save best model only with val_acc available, skipping.\n",
            "60/86 [===================>..........] - ETA: 46s - loss: 0.1687 - acc: 0.9399WARNING:tensorflow:Can save best model only with val_acc available, skipping.\n",
            "61/86 [====================>.........] - ETA: 44s - loss: 0.1688 - acc: 0.9401WARNING:tensorflow:Can save best model only with val_acc available, skipping.\n",
            "62/86 [====================>.........] - ETA: 42s - loss: 0.1687 - acc: 0.9401WARNING:tensorflow:Can save best model only with val_acc available, skipping.\n",
            "63/86 [====================>.........] - ETA: 41s - loss: 0.1708 - acc: 0.9400WARNING:tensorflow:Can save best model only with val_acc available, skipping.\n",
            "64/86 [=====================>........] - ETA: 39s - loss: 0.1702 - acc: 0.9402WARNING:tensorflow:Can save best model only with val_acc available, skipping.\n",
            "65/86 [=====================>........] - ETA: 37s - loss: 0.1701 - acc: 0.9403WARNING:tensorflow:Can save best model only with val_acc available, skipping.\n",
            "66/86 [======================>.......] - ETA: 35s - loss: 0.1699 - acc: 0.9402WARNING:tensorflow:Can save best model only with val_acc available, skipping.\n",
            "67/86 [======================>.......] - ETA: 34s - loss: 0.1694 - acc: 0.9403WARNING:tensorflow:Can save best model only with val_acc available, skipping.\n",
            "68/86 [======================>.......] - ETA: 32s - loss: 0.1696 - acc: 0.9401WARNING:tensorflow:Can save best model only with val_acc available, skipping.\n",
            "69/86 [=======================>......] - ETA: 30s - loss: 0.1693 - acc: 0.9401WARNING:tensorflow:Can save best model only with val_acc available, skipping.\n",
            "70/86 [=======================>......] - ETA: 28s - loss: 0.1691 - acc: 0.9404WARNING:tensorflow:Can save best model only with val_acc available, skipping.\n",
            "71/86 [=======================>......] - ETA: 26s - loss: 0.1687 - acc: 0.9406WARNING:tensorflow:Can save best model only with val_acc available, skipping.\n",
            "72/86 [========================>.....] - ETA: 25s - loss: 0.1686 - acc: 0.9404WARNING:tensorflow:Can save best model only with val_acc available, skipping.\n",
            "73/86 [========================>.....] - ETA: 23s - loss: 0.1694 - acc: 0.9404WARNING:tensorflow:Can save best model only with val_acc available, skipping.\n",
            "74/86 [========================>.....] - ETA: 21s - loss: 0.1698 - acc: 0.9404WARNING:tensorflow:Can save best model only with val_acc available, skipping.\n",
            "75/86 [=========================>....] - ETA: 19s - loss: 0.1691 - acc: 0.9408WARNING:tensorflow:Can save best model only with val_acc available, skipping.\n",
            "76/86 [=========================>....] - ETA: 17s - loss: 0.1691 - acc: 0.9408WARNING:tensorflow:Can save best model only with val_acc available, skipping.\n",
            "77/86 [=========================>....] - ETA: 16s - loss: 0.1687 - acc: 0.9408WARNING:tensorflow:Can save best model only with val_acc available, skipping.\n",
            "78/86 [==========================>...] - ETA: 14s - loss: 0.1689 - acc: 0.9407WARNING:tensorflow:Can save best model only with val_acc available, skipping.\n",
            "79/86 [==========================>...] - ETA: 12s - loss: 0.1692 - acc: 0.9407WARNING:tensorflow:Can save best model only with val_acc available, skipping.\n",
            "80/86 [==========================>...] - ETA: 10s - loss: 0.1689 - acc: 0.9407WARNING:tensorflow:Can save best model only with val_acc available, skipping.\n",
            "81/86 [===========================>..] - ETA: 8s - loss: 0.1690 - acc: 0.9409 WARNING:tensorflow:Can save best model only with val_acc available, skipping.\n",
            "82/86 [===========================>..] - ETA: 7s - loss: 0.1691 - acc: 0.9408WARNING:tensorflow:Can save best model only with val_acc available, skipping.\n",
            "83/86 [===========================>..] - ETA: 5s - loss: 0.1687 - acc: 0.9411WARNING:tensorflow:Can save best model only with val_acc available, skipping.\n",
            "84/86 [============================>.] - ETA: 3s - loss: 0.1678 - acc: 0.9414WARNING:tensorflow:Can save best model only with val_acc available, skipping.\n",
            "85/86 [============================>.] - ETA: 1s - loss: 0.1677 - acc: 0.9412WARNING:tensorflow:Can save best model only with val_acc available, skipping.\n",
            "86/86 [==============================] - 193s 2s/step - loss: 0.1670 - acc: 0.9416 - val_loss: 0.2124 - val_acc: 0.9302\n"
          ]
        }
      ],
      "source": [
        "model.compile(loss='binary_crossentropy',\n",
        "              optimizer=tf.optimizers.Adam(learning_rate=0.0005, beta_1=0.9, beta_2=0.99),\n",
        "              metrics=['acc'])\n",
        "# Train the model\n",
        "history = model.fit(\n",
        "      train_set,\n",
        "      steps_per_epoch=train_steps,\n",
        "      epochs=10,\n",
        "      validation_data=validation_generator,\n",
        "      validation_steps=vaid_steps,\n",
        "      verbose=1,callbacks = [checkpoint, early])"
      ]
    },
    {
      "cell_type": "code",
      "execution_count": null,
      "metadata": {
        "id": "3GBmnGIkpzKN",
        "vscode": {
          "languageId": "python"
        }
      },
      "outputs": [],
      "source": [
        "from tensorflow.keras.models import load_model\n",
        "from tensorflow.keras.preprocessing import image\n"
      ]
    },
    {
      "cell_type": "code",
      "execution_count": null,
      "metadata": {
        "colab": {
          "base_uri": "https://localhost:8080/"
        },
        "id": "vBamOg4ky-hg",
        "outputId": "79161ab5-4209-424e-96a5-2214cc0bf44b",
        "vscode": {
          "languageId": "python"
        }
      },
      "outputs": [
        {
          "data": {
            "text/plain": [
              "[0.5009300708770752,\n",
              " 0.500372052192688,\n",
              " 0.5161830186843872,\n",
              " 0.741815447807312,\n",
              " 0.8705357313156128,\n",
              " 0.9127604365348816,\n",
              " 0.9241071343421936,\n",
              " 0.9281994104385376,\n",
              " 0.9252232313156128,\n",
              " 0.9302455186843872]"
            ]
          },
          "execution_count": 58,
          "metadata": {},
          "output_type": "execute_result"
        }
      ],
      "source": [
        "history.history['val_acc']"
      ]
    },
    {
      "cell_type": "code",
      "execution_count": null,
      "metadata": {
        "colab": {
          "base_uri": "https://localhost:8080/",
          "height": 282
        },
        "id": "2Z8Bf1C9k6mn",
        "outputId": "8259765f-a669-47ef-8c72-df3d8816f69c",
        "vscode": {
          "languageId": "python"
        }
      },
      "outputs": [
        {
          "data": {
            "image/png": "[encoded data removed]",
            "text/plain": [
              "<Figure size 432x288 with 1 Axes>"
            ]
          },
          "metadata": {
            "needs_background": "light"
          },
          "output_type": "display_data"
        },
        {
          "data": {
            "text/plain": [
              "<Figure size 432x288 with 0 Axes>"
            ]
          },
          "metadata": {},
          "output_type": "display_data"
        }
      ],
      "source": [
        "import matplotlib.pyplot as plt\n",
        "plt.plot(history.history['acc'],label=\"train-acc\")\n",
        "plt.plot(history.history['val_acc'],label=\"val-acc\")\n",
        "plt.legend()\n",
        "plt.show()\n",
        "plt.savefig('AccVal_acc')"
      ]
    },
    {
      "cell_type": "code",
      "execution_count": null,
      "metadata": {
        "colab": {
          "base_uri": "https://localhost:8080/",
          "height": 282
        },
        "id": "slCEm5_lk6a5",
        "outputId": "02f10ccb-0f53-4611-e182-d0ca9f606b0f",
        "vscode": {
          "languageId": "python"
        }
      },
      "outputs": [
        {
          "data": {
            "image/png": "[encoded data removed]",
            "text/plain": [
              "<Figure size 432x288 with 1 Axes>"
            ]
          },
          "metadata": {
            "needs_background": "light"
          },
          "output_type": "display_data"
        },
        {
          "data": {
            "text/plain": [
              "<Figure size 432x288 with 0 Axes>"
            ]
          },
          "metadata": {},
          "output_type": "display_data"
        }
      ],
      "source": [
        "plt.plot(history.history['loss'],label=\"train-loss\")\n",
        "plt.plot(history.history['val_loss'],label=\"val-loss\")\n",
        "plt.legend()\n",
        "plt.show()\n",
        "plt.savefig('LossVal_loss')"
      ]
    },
    {
      "cell_type": "code",
      "execution_count": null,
      "metadata": {
        "colab": {
          "base_uri": "https://localhost:8080/"
        },
        "id": "l3WYjtDFi5KA",
        "outputId": "26b7051b-6075-4f7e-e615-dafc1a754d92",
        "vscode": {
          "languageId": "python"
        }
      },
      "outputs": [
        {
          "data": {
            "text/plain": [
              "<keras.engine.functional.Functional at 0x7fbf33f669d0>"
            ]
          },
          "execution_count": 62,
          "metadata": {},
          "output_type": "execute_result"
        }
      ],
      "source": [
        "model=load_model('model_cnn.h5')\n",
        "model"
      ]
    },
    {
      "cell_type": "code",
      "execution_count": null,
      "metadata": {
        "id": "DwDTx12jbGrN",
        "vscode": {
          "languageId": "python"
        }
      },
      "outputs": [],
      "source": [
        "from matplotlib import pyplot\n",
        "from keras.preprocessing.image import ImageDataGenerator\n",
        "from keras.models import Sequential\n",
        "from keras.layers import Conv2D, MaxPooling2D, Dense, Dropout, Input, Flatten, Activation\n",
        "from keras.layers import GlobalMaxPooling2D\n",
        "from keras.layers.merge import Concatenate\n",
        "from keras.models import Model\n",
        "from keras import initializers\n",
        "from keras.layers.advanced_activations import LeakyReLU, PReLU\n",
        "from keras.callbacks import ModelCheckpoint, Callback, EarlyStopping\n",
        "import tensorflow as tf\n",
        "from keras.datasets import cifar10\n",
        "from keras.applications.inception_v3 import InceptionV3\n",
        "from keras.applications.vgg16 import VGG16\n",
        "from keras.applications.xception import Xception\n",
        "from keras.applications.mobilenet import MobileNet\n",
        "from keras.applications.vgg19 import VGG19\n",
        "from keras.layers import Concatenate, Dense, LSTM, Input, concatenate\n",
        "from keras.preprocessing import image\n",
        "from keras.applications.vgg16 import preprocess_input\n",
        "SIZE=64"
      ]
    },
    {
      "cell_type": "code",
      "execution_count": null,
      "metadata": {
        "id": "tCLLRmF56Gyg",
        "vscode": {
          "languageId": "python"
        }
      },
      "outputs": [],
      "source": [
        "train_dir = 'cell_images/'\n",
        "image_size = 125\n",
        "shift=0.25"
      ]
    },
    {
      "cell_type": "code",
      "execution_count": null,
      "metadata": {
        "colab": {
          "base_uri": "https://localhost:8080/"
        },
        "id": "Q3SsXIO7GA9U",
        "outputId": "830c5c90-aecf-4fb5-af30-d1b9397eba25",
        "vscode": {
          "languageId": "python"
        }
      },
      "outputs": [
        {
          "name": "stdout",
          "output_type": "stream",
          "text": [
            "Found 22048 images belonging to 2 classes.\n",
            "Found 5510 images belonging to 2 classes.\n"
          ]
        }
      ],
      "source": [
        "from keras.preprocessing.image import ImageDataGenerator\n",
        "\n",
        "train_datagen = ImageDataGenerator(featurewise_center=False, samplewise_center=True, \n",
        "                                   featurewise_std_normalization=False, samplewise_std_normalization=True, \n",
        "                                   width_shift_range=shift, height_shift_range=shift,\n",
        "                                   rotation_range=90, fill_mode='wrap', cval=0.0, horizontal_flip=True, \n",
        "                                   brightness_range=None, shear_range=0.1, zoom_range=0.1,\n",
        "                                   vertical_flip=True, rescale=1./255, preprocessing_function=None, data_format=None,\n",
        "                                   validation_split=0.2)\n",
        "\n",
        "train_set = train_datagen.flow_from_directory(train_dir, target_size=(image_size, image_size), color_mode='rgb', classes=None, \n",
        "                                              class_mode='categorical', batch_size=256, shuffle=True, seed=None, \n",
        "                                              save_to_dir=None, save_prefix='', save_format='png', follow_links=False, \n",
        "                                              subset='training', interpolation='nearest')\n",
        "validation_generator = train_datagen.flow_from_directory(train_dir, target_size=(image_size, image_size),\n",
        "                                                         batch_size=256, class_mode='categorical', subset='validation')"
      ]
    },
    {
      "cell_type": "code",
      "execution_count": null,
      "metadata": {
        "id": "bKIg1TUOGDjF",
        "vscode": {
          "languageId": "python"
        }
      },
      "outputs": [],
      "source": [
        "nTrain = 22048\n",
        "nVal = 5510\n",
        "train_steps = nTrain//256\n",
        "vaid_steps = nVal//256"
      ]
    },
    {
      "cell_type": "code",
      "execution_count": null,
      "metadata": {
        "id": "o7mnmfPIGUPP",
        "vscode": {
          "languageId": "python"
        }
      },
      "outputs": [],
      "source": [
        "def getVggAngleModel22():\n",
        "    input_2 = Input(shape=[1], name=\"angle\")\n",
        "    base_model = VGG16(weights='imagenet', include_top=False, \n",
        "                 input_shape=(125,125,3), classes=2)\n",
        "    x = base_model.get_layer('block5_pool').output\n",
        "    \n",
        "\n",
        "    x = GlobalMaxPooling2D()(x)\n",
        "    merge_one = Dense(16, activation='relu', name='fc5')(x)\n",
        "    \n",
        "    predictions = Dense(2, activation='sigmoid')(merge_one)\n",
        "    \n",
        "    model = Model([base_model.input], predictions)\n",
        "    return model"
      ]
    },
    {
      "cell_type": "code",
      "execution_count": null,
      "metadata": {
        "colab": {
          "base_uri": "https://localhost:8080/"
        },
        "id": "dDhdyxtKKORx",
        "outputId": "9e2b5bac-cc97-4a04-9f10-64ee19b26ba8",
        "vscode": {
          "languageId": "python"
        }
      },
      "outputs": [
        {
          "name": "stdout",
          "output_type": "stream",
          "text": [
            "Downloading data from https://storage.googleapis.com/tensorflow/keras-applications/vgg16/vgg16_weights_tf_dim_ordering_tf_kernels_notop.h5\n",
            "58892288/58889256 [==============================] - 1s 0us/step\n",
            "58900480/58889256 [==============================] - 1s 0us/step\n"
          ]
        }
      ],
      "source": [
        "model= getVggAngleModel22()"
      ]
    },
    {
      "cell_type": "code",
      "execution_count": null,
      "metadata": {
        "id": "aggx2YlPGMCN",
        "vscode": {
          "languageId": "python"
        }
      },
      "outputs": [],
      "source": [
        "\n",
        "model.compile(loss='binary_crossentropy',\n",
        "              optimizer=tf.keras.optimizers.SGD(learning_rate=0.01),\n",
        "              metrics=['acc'])\n",
        "# Train the model\n",
        "history = model.fit(\n",
        "      train_set,\n",
        "      steps_per_epoch=train_steps,\n",
        "      epochs=10,\n",
        "      validation_data=validation_generator,\n",
        "      validation_steps=vaid_steps,\n",
        "      verbose=1,callbacks = [checkpoint, early])"
      ]
    },
    {
      "cell_type": "code",
      "execution_count": null,
      "metadata": {
        "id": "RMA7ZWsFGf7g",
        "vscode": {
          "languageId": "python"
        }
      },
      "outputs": [],
      "source": [
        "from tensorflow.keras.models import load_model\n",
        "from tensorflow.keras.preprocessing import image\n"
      ]
    },
    {
      "cell_type": "code",
      "execution_count": null,
      "metadata": {
        "colab": {
          "base_uri": "https://localhost:8080/"
        },
        "id": "dwhXZk0FbMdK",
        "outputId": "62ccc231-c373-4f50-de14-5622da4ea285",
        "vscode": {
          "languageId": "python"
        }
      },
      "outputs": [
        {
          "name": "stdout",
          "output_type": "stream",
          "text": [
            "(1, 150, 150, 3)\n"
          ]
        }
      ],
      "source": [
        "import numpy as np\n",
        "img = image.load_img('Parasitized/C100P61ThinF_IMG_20150918_144104_cell_162.png', target_size=(150, 150))\n",
        "img_array = image.img_to_array(img).astype('float32')/255\n",
        "\n",
        "img_batch = np.expand_dims(img_array, axis=0)\n",
        "print(img_batch.shape)\n",
        "\n",
        "img_preprocessed = preprocess_input(img_batch)\n"
      ]
    },
    {
      "cell_type": "code",
      "execution_count": null,
      "metadata": {
        "id": "_7L4vrfHsX-I",
        "vscode": {
          "languageId": "python"
        }
      },
      "outputs": [],
      "source": [
        "from tensorflow.keras.models import load_model\n",
        "from tensorflow.keras.preprocessing import image\n",
        "from keras.backend_config import image_data_format\n",
        "from keras.applications.vgg16 import preprocess_input\n",
        "import os\n",
        "import numpy as np\n",
        "import cv2\n",
        "from PIL import Image\n",
        "model = load_model(\"malaria_cnn.h5\")\n",
        "from array import array\n",
        "\n"
      ]
    },
    {
      "cell_type": "code",
      "execution_count": null,
      "metadata": {
        "id": "mnamCuAKuPs0",
        "vscode": {
          "languageId": "python"
        }
      },
      "outputs": [],
      "source": [
        "path = \"cell_images/Parasitized\"\n",
        "file_path = path+\"/\"+\"C33P1thinF_IMG_20150619_114756a_cell_179.png\"\n",
        "img = cv2.imread(file_path)\n",
        "img = Image.fromarray(img, 'RGB')"
      ]
    },
    {
      "cell_type": "code",
      "execution_count": null,
      "metadata": {
        "id": "thputN-1uaEl",
        "vscode": {
          "languageId": "python"
        }
      },
      "outputs": [],
      "source": [
        "\n",
        "path = \"cell_images/Uninfected\"\n",
        "file_path = path+\"/\"+\"C100P61ThinF_IMG_20150918_144104_cell_128.png\"\n",
        "img = cv2.imread(file_path)\n",
        "img = Image.fromarray(img, 'RGB')"
      ]
    },
    {
      "cell_type": "code",
      "execution_count": null,
      "metadata": {
        "colab": {
          "base_uri": "https://localhost:8080/"
        },
        "id": "b7I7faaIubaH",
        "outputId": "fd041cd2-5341-4ff7-ffe6-4ef7117755ec",
        "vscode": {
          "languageId": "python"
        }
      },
      "outputs": [
        {
          "name": "stdout",
          "output_type": "stream",
          "text": [
            "/content/drive/MyDrive\n"
          ]
        }
      ],
      "source": [
        "cd MyDrive"
      ]
    },
    {
      "cell_type": "code",
      "execution_count": null,
      "metadata": {
        "colab": {
          "base_uri": "https://localhost:8080/",
          "height": 156
        },
        "id": "Wl8OtjKTuhHP",
        "outputId": "7f7297c1-416f-4483-dd04-ea2944157654",
        "vscode": {
          "languageId": "python"
        }
      },
      "outputs": [
        {
          "data": {
            "image/png": "[encoded data removed]",
            "text/plain": [
              "<PIL.Image.Image image mode=RGB size=160x139 at 0x7F17F51C2E10>"
            ]
          },
          "execution_count": 22,
          "metadata": {},
          "output_type": "execute_result"
        }
      ],
      "source": [
        "img"
      ]
    },
    {
      "cell_type": "code",
      "execution_count": null,
      "metadata": {
        "colab": {
          "base_uri": "https://localhost:8080/"
        },
        "id": "XAmhNF7A3Nkw",
        "outputId": "5a52ea5a-552a-4195-97a4-4774f17e7fba",
        "vscode": {
          "languageId": "python"
        }
      },
      "outputs": [
        {
          "name": "stdout",
          "output_type": "stream",
          "text": [
            "Uninfected\n"
          ]
        }
      ],
      "source": [
        "\n",
        "img = img.resize((SIZE, SIZE))\n",
        "x=image.img_to_array(img)\n",
        "x = np.expand_dims(x, axis=0)\n",
        "a=np.argmax(model.predict(x),axis=1)\n",
        "if(a==1):\n",
        "  print('Uninfected')\n",
        "else:\n",
        "  print('Infected')"
      ]
    },
    {
      "cell_type": "code",
      "execution_count": null,
      "metadata": {
        "id": "hPccDK3UVzAx",
        "vscode": {
          "languageId": "python"
        }
      },
      "outputs": [],
      "source": [
        "\n",
        "\n",
        "\n",
        "\n",
        "\n",
        "\n",
        "\n",
        "\n"
      ]
    }
  ],
  "metadata": {
    "accelerator": "GPU",
    "colab": {
      "collapsed_sections": [],
      "name": "Malaria Detection.ipynb",
      "provenance": []
    },
    "kernelspec": {
      "display_name": "Python 3",
      "name": "python3"
    }
  },
  "nbformat": 4,
  "nbformat_minor": 0
}
